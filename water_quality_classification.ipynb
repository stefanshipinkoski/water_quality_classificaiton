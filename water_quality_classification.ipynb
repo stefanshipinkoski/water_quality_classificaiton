{
  "cells": [
    {
      "cell_type": "markdown",
      "id": "0ad4dbc9",
      "metadata": {
        "id": "0ad4dbc9"
      },
      "source": [
        "# Water Pollution in Europe Part - II\n",
        "## Classification for Water Quality\n",
        "\n",
        "In this project, our goal is to develop and train a machine learning model capable of accurately classifying the water quality index into three categories: Low, Medium, and High. To achieve this, we employ supervised machine learning techniques such as Decision Tree, Support Vector Machine (SVM), K-Nearest Neighbor (KNN), and Multilayer Perceptron (MLP).\n",
        "\n",
        "## Project Overview:\n",
        "\n",
        "### Problem Definition\n",
        "\n",
        "Given chemical parameters in drinking water, can we accurately calculate the water quality index, classify it accordingly, and make accurate predictions using machine learning models?\n",
        "\n",
        "### Data EDA (Exploratory Data Analysis)\n",
        "\n",
        "The original data is provided by the[ European Environmental Agency (EEA)](https://www.eea.europa.eu/en).\n",
        "\n",
        "#### Features\n",
        "\n",
        "The features consist of chemical elements found in drinking water. The value range is set by the World Health Organization guidelines.\n",
        "\n",
        "#### Data Dictionary\n",
        "\n",
        "- **Monitoring Site ID:** Unique identification codes for monitoring locations following ISO standards.\n",
        "- **Time Sampling Date:** The date of measurement in Year-Month-Day format.\n",
        "- **Ammonium:** Concentration levels in milligrams per liter of water. Allowed range of Ammonium: 0.25 mg/L to 35 mg/L.\n",
        "- **Nitrate:** Concentration levels in milligrams per liter of water. Allowed range of Nitrate: 3 mg/L to 50 mg/L.\n",
        "- **Dissolved Oxygen:** Concentration levels in milligrams per liter of water. Allowed range of Dissolved Oxygen: 4 mg/L to 10 mg/L.\n",
        "- **Total Nitrogen:** Concentration levels in milligrams per liter of water. Allowed range of Total Nitrogen: 0.5 mg/L to 2 mg/L.\n",
        "- **Phosphate:** Concentration levels in milligrams per liter of water. Allowed range of Phosphate: 0.075 mg/L to 0.35 mg/L.\n",
        "- **Total Phosphorus:** Concentration levels in milligrams per liter of water. Allowed range of Total Phosphorus: 0.15 mg/L to 0.7 mg/L.\n",
        "- **Chlorophyll a:** Concentration levels in milligrams per liter of water. Allowed range of Chlorophyll a: 1 mg/L to 300 mg/L.\n",
        "\n",
        "### Modeling\n",
        "\n",
        "We will use the following models for supervised machine learning to achieve our goals:\n",
        "\n",
        "- Decision Tree\n",
        "- Support Vector Machine\n",
        "- K-Nearest Neighbor\n",
        "\n",
        "### Evaluation\n",
        "\n",
        "Success will be considered if we can reach a 95% accuracy in predicting the water quality index on the test dataset.\n",
        "\n",
        "### Final Results\n",
        "\n",
        "Final results of evaluated metrics for each model.\n",
        "\n",
        "**Note** The current notebook will focus on the Modeling, Evaluation, and Final Results. For a comprehensive understanding of how the data is processed, please refer to the  [data_preprocessing](data_preprocessing.ipynb) notebook, where we meticulously clean and prepare the dataset for the subsequent stages of our project.\n"
      ]
    },
    {
      "cell_type": "markdown",
      "id": "53707b55",
      "metadata": {
        "id": "53707b55"
      },
      "source": [
        "# Modeling\n",
        "\n",
        "In this phase of the project we will deep dive into the heart of the mission - developing and training machine learning models for the accurate classificaiton of the water quality index into distinct categories: **Low** - (Low level of polution in the water) , **Medium**, and **High** - (high level of popution in the water) that we have calculated in the prevoius part of this project. To accomplish this, we employ a variety of supervised machine learning techniques, including Decision Trees, Support Vector Machines (SVM), K-Nearest Neighbors (KNN), and Multilayer Perceptron (MLP) classifiers.\n",
        "\n",
        "### Model Selection\n",
        "\n",
        "1. Decision Tree: Decision trees are a popular choice for classification tasks. They work by recursively splitting the dataset into subsets based on the most significant attribute at each step. This hierarchical structure makes it easy to interpret and visualize the decision-making process.\n",
        "\n",
        "2. Support Vector Machine (SVM): SVMs are excellent for binary and multi-class classification tasks. They seek to find the hyperplane that best separates different classes while maximizing the margin between them. SVMs can handle high-dimensional data efficiently.\n",
        "\n",
        "3. K-Nearest Neighbor (KNN): KNN is a simple yet effective classification algorithm. It assigns a class label based on the majority class among its 'k' nearest neighbors. This model is non-parametric and can adapt to different data distributions."
      ]
    },
    {
      "cell_type": "markdown",
      "id": "56245247",
      "metadata": {
        "id": "56245247"
      },
      "source": [
        "## Import Libary's"
      ]
    },
    {
      "cell_type": "code",
      "source": [
        "from google.colab import drive\n",
        "drive.mount('/content/drive')"
      ],
      "metadata": {
        "colab": {
          "base_uri": "https://localhost:8080/"
        },
        "id": "y-QyCvQva5xC",
        "outputId": "93fdce77-8600-41f0-ed7e-4d8129c681f7"
      },
      "id": "y-QyCvQva5xC",
      "execution_count": null,
      "outputs": [
        {
          "output_type": "stream",
          "name": "stdout",
          "text": [
            "Mounted at /content/drive\n"
          ]
        }
      ]
    },
    {
      "cell_type": "code",
      "execution_count": null,
      "id": "4d3c262c",
      "metadata": {
        "id": "4d3c262c"
      },
      "outputs": [],
      "source": [
        "import pandas as pd\n",
        "import numpy as np\n",
        "from time import time\n",
        "from sklearn import metrics\n",
        "from sklearn.tree import DecisionTreeClassifier\n",
        "from sklearn.svm import SVC\n",
        "from sklearn.neighbors import KNeighborsClassifier\n",
        "from sklearn.model_selection import StratifiedGroupKFold, GridSearchCV, RandomizedSearchCV, cross_val_score\n",
        "from sklearn.preprocessing import MinMaxScaler"
      ]
    },
    {
      "cell_type": "code",
      "source": [
        "# Round all float numbers to 4 numbers after dot\n",
        "\n",
        "pd.options.display.float_format = '{:,.4f}'.format"
      ],
      "metadata": {
        "id": "eoPcS4_pk4bA"
      },
      "id": "eoPcS4_pk4bA",
      "execution_count": null,
      "outputs": []
    },
    {
      "cell_type": "markdown",
      "id": "f6a17e54",
      "metadata": {
        "id": "f6a17e54"
      },
      "source": [
        "## Laod Data\n",
        "We will load the processed data from the local `data.zip` directory"
      ]
    },
    {
      "cell_type": "code",
      "execution_count": null,
      "id": "61b4b2c6",
      "metadata": {
        "id": "61b4b2c6"
      },
      "outputs": [],
      "source": [
        "train_data = '/content/drive/MyDrive/data/training_dataframe.csv'\n",
        "test_data = '/content/drive/MyDrive/data/test_dataframe.csv'"
      ]
    },
    {
      "cell_type": "code",
      "execution_count": null,
      "id": "743326d7",
      "metadata": {
        "colab": {
          "base_uri": "https://localhost:8080/",
          "height": 310
        },
        "id": "743326d7",
        "outputId": "8846f18c-bcf6-4f10-dcdd-3449587356c0"
      },
      "outputs": [
        {
          "output_type": "execute_result",
          "data": {
            "text/plain": [
              "  MonitoringSiteID     TimeSamplingDate  Ammonium-mg/L  Nitrate-mg/L  \\\n",
              "0         IT10GEN1  2016-10-03 00:00:00         1.0000        1.0000   \n",
              "1         IT10TVR7  2016-07-04 00:00:00         1.0000        1.0000   \n",
              "2      ITR110199CH  2016-12-15 00:00:00         1.0000        1.0000   \n",
              "3     ITR110074ACE  2016-06-14 00:00:00         1.0000        1.0000   \n",
              "4     ITR110074ACE  2016-11-10 00:00:00         1.0000        1.0000   \n",
              "\n",
              "   DissolvedOxygen-mg/L  TotalNitrogen-mg/L  Phosphate-mg/L  \\\n",
              "0                1.0000              3.0000          1.0000   \n",
              "1                1.0000              3.0000          1.0000   \n",
              "2                3.0000              1.0000          1.0000   \n",
              "3                2.0000              1.0000          1.0000   \n",
              "4                3.0000              1.0000          1.0000   \n",
              "\n",
              "   TotalPhosphorus-mg/L  Chlorophyll-mg/L   WQI  \n",
              "0                3.0000            1.0000  High  \n",
              "1                3.0000            1.0000  High  \n",
              "2                1.0000            1.0000  High  \n",
              "3                1.0000            1.0000   Med  \n",
              "4                1.0000            1.0000  High  "
            ],
            "text/html": [
              "\n",
              "  <div id=\"df-b9ababd9-1129-4cdc-9a49-ffc7c4f75753\" class=\"colab-df-container\">\n",
              "    <div>\n",
              "<style scoped>\n",
              "    .dataframe tbody tr th:only-of-type {\n",
              "        vertical-align: middle;\n",
              "    }\n",
              "\n",
              "    .dataframe tbody tr th {\n",
              "        vertical-align: top;\n",
              "    }\n",
              "\n",
              "    .dataframe thead th {\n",
              "        text-align: right;\n",
              "    }\n",
              "</style>\n",
              "<table border=\"1\" class=\"dataframe\">\n",
              "  <thead>\n",
              "    <tr style=\"text-align: right;\">\n",
              "      <th></th>\n",
              "      <th>MonitoringSiteID</th>\n",
              "      <th>TimeSamplingDate</th>\n",
              "      <th>Ammonium-mg/L</th>\n",
              "      <th>Nitrate-mg/L</th>\n",
              "      <th>DissolvedOxygen-mg/L</th>\n",
              "      <th>TotalNitrogen-mg/L</th>\n",
              "      <th>Phosphate-mg/L</th>\n",
              "      <th>TotalPhosphorus-mg/L</th>\n",
              "      <th>Chlorophyll-mg/L</th>\n",
              "      <th>WQI</th>\n",
              "    </tr>\n",
              "  </thead>\n",
              "  <tbody>\n",
              "    <tr>\n",
              "      <th>0</th>\n",
              "      <td>IT10GEN1</td>\n",
              "      <td>2016-10-03 00:00:00</td>\n",
              "      <td>1.0000</td>\n",
              "      <td>1.0000</td>\n",
              "      <td>1.0000</td>\n",
              "      <td>3.0000</td>\n",
              "      <td>1.0000</td>\n",
              "      <td>3.0000</td>\n",
              "      <td>1.0000</td>\n",
              "      <td>High</td>\n",
              "    </tr>\n",
              "    <tr>\n",
              "      <th>1</th>\n",
              "      <td>IT10TVR7</td>\n",
              "      <td>2016-07-04 00:00:00</td>\n",
              "      <td>1.0000</td>\n",
              "      <td>1.0000</td>\n",
              "      <td>1.0000</td>\n",
              "      <td>3.0000</td>\n",
              "      <td>1.0000</td>\n",
              "      <td>3.0000</td>\n",
              "      <td>1.0000</td>\n",
              "      <td>High</td>\n",
              "    </tr>\n",
              "    <tr>\n",
              "      <th>2</th>\n",
              "      <td>ITR110199CH</td>\n",
              "      <td>2016-12-15 00:00:00</td>\n",
              "      <td>1.0000</td>\n",
              "      <td>1.0000</td>\n",
              "      <td>3.0000</td>\n",
              "      <td>1.0000</td>\n",
              "      <td>1.0000</td>\n",
              "      <td>1.0000</td>\n",
              "      <td>1.0000</td>\n",
              "      <td>High</td>\n",
              "    </tr>\n",
              "    <tr>\n",
              "      <th>3</th>\n",
              "      <td>ITR110074ACE</td>\n",
              "      <td>2016-06-14 00:00:00</td>\n",
              "      <td>1.0000</td>\n",
              "      <td>1.0000</td>\n",
              "      <td>2.0000</td>\n",
              "      <td>1.0000</td>\n",
              "      <td>1.0000</td>\n",
              "      <td>1.0000</td>\n",
              "      <td>1.0000</td>\n",
              "      <td>Med</td>\n",
              "    </tr>\n",
              "    <tr>\n",
              "      <th>4</th>\n",
              "      <td>ITR110074ACE</td>\n",
              "      <td>2016-11-10 00:00:00</td>\n",
              "      <td>1.0000</td>\n",
              "      <td>1.0000</td>\n",
              "      <td>3.0000</td>\n",
              "      <td>1.0000</td>\n",
              "      <td>1.0000</td>\n",
              "      <td>1.0000</td>\n",
              "      <td>1.0000</td>\n",
              "      <td>High</td>\n",
              "    </tr>\n",
              "  </tbody>\n",
              "</table>\n",
              "</div>\n",
              "    <div class=\"colab-df-buttons\">\n",
              "\n",
              "  <div class=\"colab-df-container\">\n",
              "    <button class=\"colab-df-convert\" onclick=\"convertToInteractive('df-b9ababd9-1129-4cdc-9a49-ffc7c4f75753')\"\n",
              "            title=\"Convert this dataframe to an interactive table.\"\n",
              "            style=\"display:none;\">\n",
              "\n",
              "  <svg xmlns=\"http://www.w3.org/2000/svg\" height=\"24px\" viewBox=\"0 -960 960 960\">\n",
              "    <path d=\"M120-120v-720h720v720H120Zm60-500h600v-160H180v160Zm220 220h160v-160H400v160Zm0 220h160v-160H400v160ZM180-400h160v-160H180v160Zm440 0h160v-160H620v160ZM180-180h160v-160H180v160Zm440 0h160v-160H620v160Z\"/>\n",
              "  </svg>\n",
              "    </button>\n",
              "\n",
              "  <style>\n",
              "    .colab-df-container {\n",
              "      display:flex;\n",
              "      gap: 12px;\n",
              "    }\n",
              "\n",
              "    .colab-df-convert {\n",
              "      background-color: #E8F0FE;\n",
              "      border: none;\n",
              "      border-radius: 50%;\n",
              "      cursor: pointer;\n",
              "      display: none;\n",
              "      fill: #1967D2;\n",
              "      height: 32px;\n",
              "      padding: 0 0 0 0;\n",
              "      width: 32px;\n",
              "    }\n",
              "\n",
              "    .colab-df-convert:hover {\n",
              "      background-color: #E2EBFA;\n",
              "      box-shadow: 0px 1px 2px rgba(60, 64, 67, 0.3), 0px 1px 3px 1px rgba(60, 64, 67, 0.15);\n",
              "      fill: #174EA6;\n",
              "    }\n",
              "\n",
              "    .colab-df-buttons div {\n",
              "      margin-bottom: 4px;\n",
              "    }\n",
              "\n",
              "    [theme=dark] .colab-df-convert {\n",
              "      background-color: #3B4455;\n",
              "      fill: #D2E3FC;\n",
              "    }\n",
              "\n",
              "    [theme=dark] .colab-df-convert:hover {\n",
              "      background-color: #434B5C;\n",
              "      box-shadow: 0px 1px 3px 1px rgba(0, 0, 0, 0.15);\n",
              "      filter: drop-shadow(0px 1px 2px rgba(0, 0, 0, 0.3));\n",
              "      fill: #FFFFFF;\n",
              "    }\n",
              "  </style>\n",
              "\n",
              "    <script>\n",
              "      const buttonEl =\n",
              "        document.querySelector('#df-b9ababd9-1129-4cdc-9a49-ffc7c4f75753 button.colab-df-convert');\n",
              "      buttonEl.style.display =\n",
              "        google.colab.kernel.accessAllowed ? 'block' : 'none';\n",
              "\n",
              "      async function convertToInteractive(key) {\n",
              "        const element = document.querySelector('#df-b9ababd9-1129-4cdc-9a49-ffc7c4f75753');\n",
              "        const dataTable =\n",
              "          await google.colab.kernel.invokeFunction('convertToInteractive',\n",
              "                                                    [key], {});\n",
              "        if (!dataTable) return;\n",
              "\n",
              "        const docLinkHtml = 'Like what you see? Visit the ' +\n",
              "          '<a target=\"_blank\" href=https://colab.research.google.com/notebooks/data_table.ipynb>data table notebook</a>'\n",
              "          + ' to learn more about interactive tables.';\n",
              "        element.innerHTML = '';\n",
              "        dataTable['output_type'] = 'display_data';\n",
              "        await google.colab.output.renderOutput(dataTable, element);\n",
              "        const docLink = document.createElement('div');\n",
              "        docLink.innerHTML = docLinkHtml;\n",
              "        element.appendChild(docLink);\n",
              "      }\n",
              "    </script>\n",
              "  </div>\n",
              "\n",
              "\n",
              "<div id=\"df-0af9fc5b-e717-4709-b108-6af9b4e07865\">\n",
              "  <button class=\"colab-df-quickchart\" onclick=\"quickchart('df-0af9fc5b-e717-4709-b108-6af9b4e07865')\"\n",
              "            title=\"Suggest charts\"\n",
              "            style=\"display:none;\">\n",
              "\n",
              "<svg xmlns=\"http://www.w3.org/2000/svg\" height=\"24px\"viewBox=\"0 0 24 24\"\n",
              "     width=\"24px\">\n",
              "    <g>\n",
              "        <path d=\"M19 3H5c-1.1 0-2 .9-2 2v14c0 1.1.9 2 2 2h14c1.1 0 2-.9 2-2V5c0-1.1-.9-2-2-2zM9 17H7v-7h2v7zm4 0h-2V7h2v10zm4 0h-2v-4h2v4z\"/>\n",
              "    </g>\n",
              "</svg>\n",
              "  </button>\n",
              "\n",
              "<style>\n",
              "  .colab-df-quickchart {\n",
              "      --bg-color: #E8F0FE;\n",
              "      --fill-color: #1967D2;\n",
              "      --hover-bg-color: #E2EBFA;\n",
              "      --hover-fill-color: #174EA6;\n",
              "      --disabled-fill-color: #AAA;\n",
              "      --disabled-bg-color: #DDD;\n",
              "  }\n",
              "\n",
              "  [theme=dark] .colab-df-quickchart {\n",
              "      --bg-color: #3B4455;\n",
              "      --fill-color: #D2E3FC;\n",
              "      --hover-bg-color: #434B5C;\n",
              "      --hover-fill-color: #FFFFFF;\n",
              "      --disabled-bg-color: #3B4455;\n",
              "      --disabled-fill-color: #666;\n",
              "  }\n",
              "\n",
              "  .colab-df-quickchart {\n",
              "    background-color: var(--bg-color);\n",
              "    border: none;\n",
              "    border-radius: 50%;\n",
              "    cursor: pointer;\n",
              "    display: none;\n",
              "    fill: var(--fill-color);\n",
              "    height: 32px;\n",
              "    padding: 0;\n",
              "    width: 32px;\n",
              "  }\n",
              "\n",
              "  .colab-df-quickchart:hover {\n",
              "    background-color: var(--hover-bg-color);\n",
              "    box-shadow: 0 1px 2px rgba(60, 64, 67, 0.3), 0 1px 3px 1px rgba(60, 64, 67, 0.15);\n",
              "    fill: var(--button-hover-fill-color);\n",
              "  }\n",
              "\n",
              "  .colab-df-quickchart-complete:disabled,\n",
              "  .colab-df-quickchart-complete:disabled:hover {\n",
              "    background-color: var(--disabled-bg-color);\n",
              "    fill: var(--disabled-fill-color);\n",
              "    box-shadow: none;\n",
              "  }\n",
              "\n",
              "  .colab-df-spinner {\n",
              "    border: 2px solid var(--fill-color);\n",
              "    border-color: transparent;\n",
              "    border-bottom-color: var(--fill-color);\n",
              "    animation:\n",
              "      spin 1s steps(1) infinite;\n",
              "  }\n",
              "\n",
              "  @keyframes spin {\n",
              "    0% {\n",
              "      border-color: transparent;\n",
              "      border-bottom-color: var(--fill-color);\n",
              "      border-left-color: var(--fill-color);\n",
              "    }\n",
              "    20% {\n",
              "      border-color: transparent;\n",
              "      border-left-color: var(--fill-color);\n",
              "      border-top-color: var(--fill-color);\n",
              "    }\n",
              "    30% {\n",
              "      border-color: transparent;\n",
              "      border-left-color: var(--fill-color);\n",
              "      border-top-color: var(--fill-color);\n",
              "      border-right-color: var(--fill-color);\n",
              "    }\n",
              "    40% {\n",
              "      border-color: transparent;\n",
              "      border-right-color: var(--fill-color);\n",
              "      border-top-color: var(--fill-color);\n",
              "    }\n",
              "    60% {\n",
              "      border-color: transparent;\n",
              "      border-right-color: var(--fill-color);\n",
              "    }\n",
              "    80% {\n",
              "      border-color: transparent;\n",
              "      border-right-color: var(--fill-color);\n",
              "      border-bottom-color: var(--fill-color);\n",
              "    }\n",
              "    90% {\n",
              "      border-color: transparent;\n",
              "      border-bottom-color: var(--fill-color);\n",
              "    }\n",
              "  }\n",
              "</style>\n",
              "\n",
              "  <script>\n",
              "    async function quickchart(key) {\n",
              "      const quickchartButtonEl =\n",
              "        document.querySelector('#' + key + ' button');\n",
              "      quickchartButtonEl.disabled = true;  // To prevent multiple clicks.\n",
              "      quickchartButtonEl.classList.add('colab-df-spinner');\n",
              "      try {\n",
              "        const charts = await google.colab.kernel.invokeFunction(\n",
              "            'suggestCharts', [key], {});\n",
              "      } catch (error) {\n",
              "        console.error('Error during call to suggestCharts:', error);\n",
              "      }\n",
              "      quickchartButtonEl.classList.remove('colab-df-spinner');\n",
              "      quickchartButtonEl.classList.add('colab-df-quickchart-complete');\n",
              "    }\n",
              "    (() => {\n",
              "      let quickchartButtonEl =\n",
              "        document.querySelector('#df-0af9fc5b-e717-4709-b108-6af9b4e07865 button');\n",
              "      quickchartButtonEl.style.display =\n",
              "        google.colab.kernel.accessAllowed ? 'block' : 'none';\n",
              "    })();\n",
              "  </script>\n",
              "</div>\n",
              "    </div>\n",
              "  </div>\n"
            ]
          },
          "metadata": {},
          "execution_count": 5
        }
      ],
      "source": [
        "train = pd.read_csv(train_data)\n",
        "train.head()"
      ]
    },
    {
      "cell_type": "code",
      "source": [
        "train.describe()"
      ],
      "metadata": {
        "colab": {
          "base_uri": "https://localhost:8080/",
          "height": 300
        },
        "id": "HTs8nDhAk9EI",
        "outputId": "b6496e56-8390-489e-b606-8e1848a2e9bf"
      },
      "id": "HTs8nDhAk9EI",
      "execution_count": null,
      "outputs": [
        {
          "output_type": "execute_result",
          "data": {
            "text/plain": [
              "       Ammonium-mg/L   Nitrate-mg/L  DissolvedOxygen-mg/L  TotalNitrogen-mg/L  \\\n",
              "count 2,342,490.0000 2,342,490.0000        2,342,490.0000      2,342,490.0000   \n",
              "mean          1.0033         1.0028                2.0322              1.4327   \n",
              "std           0.0778         0.0653                0.8619              0.5855   \n",
              "min           1.0000         1.0000                1.0000              1.0000   \n",
              "25%           1.0000         1.0000                1.0000              1.0000   \n",
              "50%           1.0000         1.0000                2.0000              1.0000   \n",
              "75%           1.0000         1.0000                3.0000              2.0000   \n",
              "max           3.0000         3.0000                3.0000              3.0000   \n",
              "\n",
              "       Phosphate-mg/L  TotalPhosphorus-mg/L  Chlorophyll-mg/L  \n",
              "count  2,342,490.0000        2,342,490.0000    2,342,490.0000  \n",
              "mean           1.1288                1.0224            1.0003  \n",
              "std            0.3730                0.1804            0.0167  \n",
              "min            1.0000                1.0000            1.0000  \n",
              "25%            1.0000                1.0000            1.0000  \n",
              "50%            1.0000                1.0000            1.0000  \n",
              "75%            1.0000                1.0000            1.0000  \n",
              "max            3.0000                3.0000            3.0000  "
            ],
            "text/html": [
              "\n",
              "  <div id=\"df-95611d60-289c-45ce-8cf0-7098f01a76dd\" class=\"colab-df-container\">\n",
              "    <div>\n",
              "<style scoped>\n",
              "    .dataframe tbody tr th:only-of-type {\n",
              "        vertical-align: middle;\n",
              "    }\n",
              "\n",
              "    .dataframe tbody tr th {\n",
              "        vertical-align: top;\n",
              "    }\n",
              "\n",
              "    .dataframe thead th {\n",
              "        text-align: right;\n",
              "    }\n",
              "</style>\n",
              "<table border=\"1\" class=\"dataframe\">\n",
              "  <thead>\n",
              "    <tr style=\"text-align: right;\">\n",
              "      <th></th>\n",
              "      <th>Ammonium-mg/L</th>\n",
              "      <th>Nitrate-mg/L</th>\n",
              "      <th>DissolvedOxygen-mg/L</th>\n",
              "      <th>TotalNitrogen-mg/L</th>\n",
              "      <th>Phosphate-mg/L</th>\n",
              "      <th>TotalPhosphorus-mg/L</th>\n",
              "      <th>Chlorophyll-mg/L</th>\n",
              "    </tr>\n",
              "  </thead>\n",
              "  <tbody>\n",
              "    <tr>\n",
              "      <th>count</th>\n",
              "      <td>2,342,490.0000</td>\n",
              "      <td>2,342,490.0000</td>\n",
              "      <td>2,342,490.0000</td>\n",
              "      <td>2,342,490.0000</td>\n",
              "      <td>2,342,490.0000</td>\n",
              "      <td>2,342,490.0000</td>\n",
              "      <td>2,342,490.0000</td>\n",
              "    </tr>\n",
              "    <tr>\n",
              "      <th>mean</th>\n",
              "      <td>1.0033</td>\n",
              "      <td>1.0028</td>\n",
              "      <td>2.0322</td>\n",
              "      <td>1.4327</td>\n",
              "      <td>1.1288</td>\n",
              "      <td>1.0224</td>\n",
              "      <td>1.0003</td>\n",
              "    </tr>\n",
              "    <tr>\n",
              "      <th>std</th>\n",
              "      <td>0.0778</td>\n",
              "      <td>0.0653</td>\n",
              "      <td>0.8619</td>\n",
              "      <td>0.5855</td>\n",
              "      <td>0.3730</td>\n",
              "      <td>0.1804</td>\n",
              "      <td>0.0167</td>\n",
              "    </tr>\n",
              "    <tr>\n",
              "      <th>min</th>\n",
              "      <td>1.0000</td>\n",
              "      <td>1.0000</td>\n",
              "      <td>1.0000</td>\n",
              "      <td>1.0000</td>\n",
              "      <td>1.0000</td>\n",
              "      <td>1.0000</td>\n",
              "      <td>1.0000</td>\n",
              "    </tr>\n",
              "    <tr>\n",
              "      <th>25%</th>\n",
              "      <td>1.0000</td>\n",
              "      <td>1.0000</td>\n",
              "      <td>1.0000</td>\n",
              "      <td>1.0000</td>\n",
              "      <td>1.0000</td>\n",
              "      <td>1.0000</td>\n",
              "      <td>1.0000</td>\n",
              "    </tr>\n",
              "    <tr>\n",
              "      <th>50%</th>\n",
              "      <td>1.0000</td>\n",
              "      <td>1.0000</td>\n",
              "      <td>2.0000</td>\n",
              "      <td>1.0000</td>\n",
              "      <td>1.0000</td>\n",
              "      <td>1.0000</td>\n",
              "      <td>1.0000</td>\n",
              "    </tr>\n",
              "    <tr>\n",
              "      <th>75%</th>\n",
              "      <td>1.0000</td>\n",
              "      <td>1.0000</td>\n",
              "      <td>3.0000</td>\n",
              "      <td>2.0000</td>\n",
              "      <td>1.0000</td>\n",
              "      <td>1.0000</td>\n",
              "      <td>1.0000</td>\n",
              "    </tr>\n",
              "    <tr>\n",
              "      <th>max</th>\n",
              "      <td>3.0000</td>\n",
              "      <td>3.0000</td>\n",
              "      <td>3.0000</td>\n",
              "      <td>3.0000</td>\n",
              "      <td>3.0000</td>\n",
              "      <td>3.0000</td>\n",
              "      <td>3.0000</td>\n",
              "    </tr>\n",
              "  </tbody>\n",
              "</table>\n",
              "</div>\n",
              "    <div class=\"colab-df-buttons\">\n",
              "\n",
              "  <div class=\"colab-df-container\">\n",
              "    <button class=\"colab-df-convert\" onclick=\"convertToInteractive('df-95611d60-289c-45ce-8cf0-7098f01a76dd')\"\n",
              "            title=\"Convert this dataframe to an interactive table.\"\n",
              "            style=\"display:none;\">\n",
              "\n",
              "  <svg xmlns=\"http://www.w3.org/2000/svg\" height=\"24px\" viewBox=\"0 -960 960 960\">\n",
              "    <path d=\"M120-120v-720h720v720H120Zm60-500h600v-160H180v160Zm220 220h160v-160H400v160Zm0 220h160v-160H400v160ZM180-400h160v-160H180v160Zm440 0h160v-160H620v160ZM180-180h160v-160H180v160Zm440 0h160v-160H620v160Z\"/>\n",
              "  </svg>\n",
              "    </button>\n",
              "\n",
              "  <style>\n",
              "    .colab-df-container {\n",
              "      display:flex;\n",
              "      gap: 12px;\n",
              "    }\n",
              "\n",
              "    .colab-df-convert {\n",
              "      background-color: #E8F0FE;\n",
              "      border: none;\n",
              "      border-radius: 50%;\n",
              "      cursor: pointer;\n",
              "      display: none;\n",
              "      fill: #1967D2;\n",
              "      height: 32px;\n",
              "      padding: 0 0 0 0;\n",
              "      width: 32px;\n",
              "    }\n",
              "\n",
              "    .colab-df-convert:hover {\n",
              "      background-color: #E2EBFA;\n",
              "      box-shadow: 0px 1px 2px rgba(60, 64, 67, 0.3), 0px 1px 3px 1px rgba(60, 64, 67, 0.15);\n",
              "      fill: #174EA6;\n",
              "    }\n",
              "\n",
              "    .colab-df-buttons div {\n",
              "      margin-bottom: 4px;\n",
              "    }\n",
              "\n",
              "    [theme=dark] .colab-df-convert {\n",
              "      background-color: #3B4455;\n",
              "      fill: #D2E3FC;\n",
              "    }\n",
              "\n",
              "    [theme=dark] .colab-df-convert:hover {\n",
              "      background-color: #434B5C;\n",
              "      box-shadow: 0px 1px 3px 1px rgba(0, 0, 0, 0.15);\n",
              "      filter: drop-shadow(0px 1px 2px rgba(0, 0, 0, 0.3));\n",
              "      fill: #FFFFFF;\n",
              "    }\n",
              "  </style>\n",
              "\n",
              "    <script>\n",
              "      const buttonEl =\n",
              "        document.querySelector('#df-95611d60-289c-45ce-8cf0-7098f01a76dd button.colab-df-convert');\n",
              "      buttonEl.style.display =\n",
              "        google.colab.kernel.accessAllowed ? 'block' : 'none';\n",
              "\n",
              "      async function convertToInteractive(key) {\n",
              "        const element = document.querySelector('#df-95611d60-289c-45ce-8cf0-7098f01a76dd');\n",
              "        const dataTable =\n",
              "          await google.colab.kernel.invokeFunction('convertToInteractive',\n",
              "                                                    [key], {});\n",
              "        if (!dataTable) return;\n",
              "\n",
              "        const docLinkHtml = 'Like what you see? Visit the ' +\n",
              "          '<a target=\"_blank\" href=https://colab.research.google.com/notebooks/data_table.ipynb>data table notebook</a>'\n",
              "          + ' to learn more about interactive tables.';\n",
              "        element.innerHTML = '';\n",
              "        dataTable['output_type'] = 'display_data';\n",
              "        await google.colab.output.renderOutput(dataTable, element);\n",
              "        const docLink = document.createElement('div');\n",
              "        docLink.innerHTML = docLinkHtml;\n",
              "        element.appendChild(docLink);\n",
              "      }\n",
              "    </script>\n",
              "  </div>\n",
              "\n",
              "\n",
              "<div id=\"df-bba4af43-53ff-4892-bb4c-b1fbd7ad3d62\">\n",
              "  <button class=\"colab-df-quickchart\" onclick=\"quickchart('df-bba4af43-53ff-4892-bb4c-b1fbd7ad3d62')\"\n",
              "            title=\"Suggest charts\"\n",
              "            style=\"display:none;\">\n",
              "\n",
              "<svg xmlns=\"http://www.w3.org/2000/svg\" height=\"24px\"viewBox=\"0 0 24 24\"\n",
              "     width=\"24px\">\n",
              "    <g>\n",
              "        <path d=\"M19 3H5c-1.1 0-2 .9-2 2v14c0 1.1.9 2 2 2h14c1.1 0 2-.9 2-2V5c0-1.1-.9-2-2-2zM9 17H7v-7h2v7zm4 0h-2V7h2v10zm4 0h-2v-4h2v4z\"/>\n",
              "    </g>\n",
              "</svg>\n",
              "  </button>\n",
              "\n",
              "<style>\n",
              "  .colab-df-quickchart {\n",
              "      --bg-color: #E8F0FE;\n",
              "      --fill-color: #1967D2;\n",
              "      --hover-bg-color: #E2EBFA;\n",
              "      --hover-fill-color: #174EA6;\n",
              "      --disabled-fill-color: #AAA;\n",
              "      --disabled-bg-color: #DDD;\n",
              "  }\n",
              "\n",
              "  [theme=dark] .colab-df-quickchart {\n",
              "      --bg-color: #3B4455;\n",
              "      --fill-color: #D2E3FC;\n",
              "      --hover-bg-color: #434B5C;\n",
              "      --hover-fill-color: #FFFFFF;\n",
              "      --disabled-bg-color: #3B4455;\n",
              "      --disabled-fill-color: #666;\n",
              "  }\n",
              "\n",
              "  .colab-df-quickchart {\n",
              "    background-color: var(--bg-color);\n",
              "    border: none;\n",
              "    border-radius: 50%;\n",
              "    cursor: pointer;\n",
              "    display: none;\n",
              "    fill: var(--fill-color);\n",
              "    height: 32px;\n",
              "    padding: 0;\n",
              "    width: 32px;\n",
              "  }\n",
              "\n",
              "  .colab-df-quickchart:hover {\n",
              "    background-color: var(--hover-bg-color);\n",
              "    box-shadow: 0 1px 2px rgba(60, 64, 67, 0.3), 0 1px 3px 1px rgba(60, 64, 67, 0.15);\n",
              "    fill: var(--button-hover-fill-color);\n",
              "  }\n",
              "\n",
              "  .colab-df-quickchart-complete:disabled,\n",
              "  .colab-df-quickchart-complete:disabled:hover {\n",
              "    background-color: var(--disabled-bg-color);\n",
              "    fill: var(--disabled-fill-color);\n",
              "    box-shadow: none;\n",
              "  }\n",
              "\n",
              "  .colab-df-spinner {\n",
              "    border: 2px solid var(--fill-color);\n",
              "    border-color: transparent;\n",
              "    border-bottom-color: var(--fill-color);\n",
              "    animation:\n",
              "      spin 1s steps(1) infinite;\n",
              "  }\n",
              "\n",
              "  @keyframes spin {\n",
              "    0% {\n",
              "      border-color: transparent;\n",
              "      border-bottom-color: var(--fill-color);\n",
              "      border-left-color: var(--fill-color);\n",
              "    }\n",
              "    20% {\n",
              "      border-color: transparent;\n",
              "      border-left-color: var(--fill-color);\n",
              "      border-top-color: var(--fill-color);\n",
              "    }\n",
              "    30% {\n",
              "      border-color: transparent;\n",
              "      border-left-color: var(--fill-color);\n",
              "      border-top-color: var(--fill-color);\n",
              "      border-right-color: var(--fill-color);\n",
              "    }\n",
              "    40% {\n",
              "      border-color: transparent;\n",
              "      border-right-color: var(--fill-color);\n",
              "      border-top-color: var(--fill-color);\n",
              "    }\n",
              "    60% {\n",
              "      border-color: transparent;\n",
              "      border-right-color: var(--fill-color);\n",
              "    }\n",
              "    80% {\n",
              "      border-color: transparent;\n",
              "      border-right-color: var(--fill-color);\n",
              "      border-bottom-color: var(--fill-color);\n",
              "    }\n",
              "    90% {\n",
              "      border-color: transparent;\n",
              "      border-bottom-color: var(--fill-color);\n",
              "    }\n",
              "  }\n",
              "</style>\n",
              "\n",
              "  <script>\n",
              "    async function quickchart(key) {\n",
              "      const quickchartButtonEl =\n",
              "        document.querySelector('#' + key + ' button');\n",
              "      quickchartButtonEl.disabled = true;  // To prevent multiple clicks.\n",
              "      quickchartButtonEl.classList.add('colab-df-spinner');\n",
              "      try {\n",
              "        const charts = await google.colab.kernel.invokeFunction(\n",
              "            'suggestCharts', [key], {});\n",
              "      } catch (error) {\n",
              "        console.error('Error during call to suggestCharts:', error);\n",
              "      }\n",
              "      quickchartButtonEl.classList.remove('colab-df-spinner');\n",
              "      quickchartButtonEl.classList.add('colab-df-quickchart-complete');\n",
              "    }\n",
              "    (() => {\n",
              "      let quickchartButtonEl =\n",
              "        document.querySelector('#df-bba4af43-53ff-4892-bb4c-b1fbd7ad3d62 button');\n",
              "      quickchartButtonEl.style.display =\n",
              "        google.colab.kernel.accessAllowed ? 'block' : 'none';\n",
              "    })();\n",
              "  </script>\n",
              "</div>\n",
              "    </div>\n",
              "  </div>\n"
            ]
          },
          "metadata": {},
          "execution_count": 6
        }
      ]
    },
    {
      "cell_type": "code",
      "execution_count": null,
      "id": "4fd66332",
      "metadata": {
        "colab": {
          "base_uri": "https://localhost:8080/",
          "height": 310
        },
        "id": "4fd66332",
        "outputId": "3662c047-07d7-4724-8827-600376ae7b8c"
      },
      "outputs": [
        {
          "output_type": "execute_result",
          "data": {
            "text/plain": [
              "  MonitoringSiteID     TimeSamplingDate  Ammonium-mg/L  Nitrate-mg/L  \\\n",
              "0          EE12597  2008-09-30 00:00:00         1.0000        1.0000   \n",
              "1          EE11875  2008-08-14 00:00:00         1.0000        1.0000   \n",
              "2           EE5191  2008-07-29 00:00:00         1.0000        1.0000   \n",
              "3           EE9418  2008-09-18 00:00:00         1.0000        1.0000   \n",
              "4            EEA02  2009-07-01 00:00:00         1.0000        2.0000   \n",
              "\n",
              "   DissolvedOxygen-mg/L  TotalNitrogen-mg/L  Phosphate-mg/L  \\\n",
              "0                3.0000              2.0000          1.0000   \n",
              "1                1.0000              2.0000          1.0000   \n",
              "2                3.0000              2.0000          1.0000   \n",
              "3                3.0000              2.0000          1.0000   \n",
              "4                2.0000              2.0000          1.0000   \n",
              "\n",
              "   TotalPhosphorus-mg/L  Chlorophyll-mg/L   WQI  \n",
              "0                1.0000            1.0000  High  \n",
              "1                1.0000            1.0000   Med  \n",
              "2                1.0000            1.0000  High  \n",
              "3                1.0000            1.0000  High  \n",
              "4                1.0000            1.0000   Med  "
            ],
            "text/html": [
              "\n",
              "  <div id=\"df-8f16b762-ce81-46f2-a07f-9e5b71241320\" class=\"colab-df-container\">\n",
              "    <div>\n",
              "<style scoped>\n",
              "    .dataframe tbody tr th:only-of-type {\n",
              "        vertical-align: middle;\n",
              "    }\n",
              "\n",
              "    .dataframe tbody tr th {\n",
              "        vertical-align: top;\n",
              "    }\n",
              "\n",
              "    .dataframe thead th {\n",
              "        text-align: right;\n",
              "    }\n",
              "</style>\n",
              "<table border=\"1\" class=\"dataframe\">\n",
              "  <thead>\n",
              "    <tr style=\"text-align: right;\">\n",
              "      <th></th>\n",
              "      <th>MonitoringSiteID</th>\n",
              "      <th>TimeSamplingDate</th>\n",
              "      <th>Ammonium-mg/L</th>\n",
              "      <th>Nitrate-mg/L</th>\n",
              "      <th>DissolvedOxygen-mg/L</th>\n",
              "      <th>TotalNitrogen-mg/L</th>\n",
              "      <th>Phosphate-mg/L</th>\n",
              "      <th>TotalPhosphorus-mg/L</th>\n",
              "      <th>Chlorophyll-mg/L</th>\n",
              "      <th>WQI</th>\n",
              "    </tr>\n",
              "  </thead>\n",
              "  <tbody>\n",
              "    <tr>\n",
              "      <th>0</th>\n",
              "      <td>EE12597</td>\n",
              "      <td>2008-09-30 00:00:00</td>\n",
              "      <td>1.0000</td>\n",
              "      <td>1.0000</td>\n",
              "      <td>3.0000</td>\n",
              "      <td>2.0000</td>\n",
              "      <td>1.0000</td>\n",
              "      <td>1.0000</td>\n",
              "      <td>1.0000</td>\n",
              "      <td>High</td>\n",
              "    </tr>\n",
              "    <tr>\n",
              "      <th>1</th>\n",
              "      <td>EE11875</td>\n",
              "      <td>2008-08-14 00:00:00</td>\n",
              "      <td>1.0000</td>\n",
              "      <td>1.0000</td>\n",
              "      <td>1.0000</td>\n",
              "      <td>2.0000</td>\n",
              "      <td>1.0000</td>\n",
              "      <td>1.0000</td>\n",
              "      <td>1.0000</td>\n",
              "      <td>Med</td>\n",
              "    </tr>\n",
              "    <tr>\n",
              "      <th>2</th>\n",
              "      <td>EE5191</td>\n",
              "      <td>2008-07-29 00:00:00</td>\n",
              "      <td>1.0000</td>\n",
              "      <td>1.0000</td>\n",
              "      <td>3.0000</td>\n",
              "      <td>2.0000</td>\n",
              "      <td>1.0000</td>\n",
              "      <td>1.0000</td>\n",
              "      <td>1.0000</td>\n",
              "      <td>High</td>\n",
              "    </tr>\n",
              "    <tr>\n",
              "      <th>3</th>\n",
              "      <td>EE9418</td>\n",
              "      <td>2008-09-18 00:00:00</td>\n",
              "      <td>1.0000</td>\n",
              "      <td>1.0000</td>\n",
              "      <td>3.0000</td>\n",
              "      <td>2.0000</td>\n",
              "      <td>1.0000</td>\n",
              "      <td>1.0000</td>\n",
              "      <td>1.0000</td>\n",
              "      <td>High</td>\n",
              "    </tr>\n",
              "    <tr>\n",
              "      <th>4</th>\n",
              "      <td>EEA02</td>\n",
              "      <td>2009-07-01 00:00:00</td>\n",
              "      <td>1.0000</td>\n",
              "      <td>2.0000</td>\n",
              "      <td>2.0000</td>\n",
              "      <td>2.0000</td>\n",
              "      <td>1.0000</td>\n",
              "      <td>1.0000</td>\n",
              "      <td>1.0000</td>\n",
              "      <td>Med</td>\n",
              "    </tr>\n",
              "  </tbody>\n",
              "</table>\n",
              "</div>\n",
              "    <div class=\"colab-df-buttons\">\n",
              "\n",
              "  <div class=\"colab-df-container\">\n",
              "    <button class=\"colab-df-convert\" onclick=\"convertToInteractive('df-8f16b762-ce81-46f2-a07f-9e5b71241320')\"\n",
              "            title=\"Convert this dataframe to an interactive table.\"\n",
              "            style=\"display:none;\">\n",
              "\n",
              "  <svg xmlns=\"http://www.w3.org/2000/svg\" height=\"24px\" viewBox=\"0 -960 960 960\">\n",
              "    <path d=\"M120-120v-720h720v720H120Zm60-500h600v-160H180v160Zm220 220h160v-160H400v160Zm0 220h160v-160H400v160ZM180-400h160v-160H180v160Zm440 0h160v-160H620v160ZM180-180h160v-160H180v160Zm440 0h160v-160H620v160Z\"/>\n",
              "  </svg>\n",
              "    </button>\n",
              "\n",
              "  <style>\n",
              "    .colab-df-container {\n",
              "      display:flex;\n",
              "      gap: 12px;\n",
              "    }\n",
              "\n",
              "    .colab-df-convert {\n",
              "      background-color: #E8F0FE;\n",
              "      border: none;\n",
              "      border-radius: 50%;\n",
              "      cursor: pointer;\n",
              "      display: none;\n",
              "      fill: #1967D2;\n",
              "      height: 32px;\n",
              "      padding: 0 0 0 0;\n",
              "      width: 32px;\n",
              "    }\n",
              "\n",
              "    .colab-df-convert:hover {\n",
              "      background-color: #E2EBFA;\n",
              "      box-shadow: 0px 1px 2px rgba(60, 64, 67, 0.3), 0px 1px 3px 1px rgba(60, 64, 67, 0.15);\n",
              "      fill: #174EA6;\n",
              "    }\n",
              "\n",
              "    .colab-df-buttons div {\n",
              "      margin-bottom: 4px;\n",
              "    }\n",
              "\n",
              "    [theme=dark] .colab-df-convert {\n",
              "      background-color: #3B4455;\n",
              "      fill: #D2E3FC;\n",
              "    }\n",
              "\n",
              "    [theme=dark] .colab-df-convert:hover {\n",
              "      background-color: #434B5C;\n",
              "      box-shadow: 0px 1px 3px 1px rgba(0, 0, 0, 0.15);\n",
              "      filter: drop-shadow(0px 1px 2px rgba(0, 0, 0, 0.3));\n",
              "      fill: #FFFFFF;\n",
              "    }\n",
              "  </style>\n",
              "\n",
              "    <script>\n",
              "      const buttonEl =\n",
              "        document.querySelector('#df-8f16b762-ce81-46f2-a07f-9e5b71241320 button.colab-df-convert');\n",
              "      buttonEl.style.display =\n",
              "        google.colab.kernel.accessAllowed ? 'block' : 'none';\n",
              "\n",
              "      async function convertToInteractive(key) {\n",
              "        const element = document.querySelector('#df-8f16b762-ce81-46f2-a07f-9e5b71241320');\n",
              "        const dataTable =\n",
              "          await google.colab.kernel.invokeFunction('convertToInteractive',\n",
              "                                                    [key], {});\n",
              "        if (!dataTable) return;\n",
              "\n",
              "        const docLinkHtml = 'Like what you see? Visit the ' +\n",
              "          '<a target=\"_blank\" href=https://colab.research.google.com/notebooks/data_table.ipynb>data table notebook</a>'\n",
              "          + ' to learn more about interactive tables.';\n",
              "        element.innerHTML = '';\n",
              "        dataTable['output_type'] = 'display_data';\n",
              "        await google.colab.output.renderOutput(dataTable, element);\n",
              "        const docLink = document.createElement('div');\n",
              "        docLink.innerHTML = docLinkHtml;\n",
              "        element.appendChild(docLink);\n",
              "      }\n",
              "    </script>\n",
              "  </div>\n",
              "\n",
              "\n",
              "<div id=\"df-be9dc4c8-7d42-4d2f-bf33-e036d7f61fb8\">\n",
              "  <button class=\"colab-df-quickchart\" onclick=\"quickchart('df-be9dc4c8-7d42-4d2f-bf33-e036d7f61fb8')\"\n",
              "            title=\"Suggest charts\"\n",
              "            style=\"display:none;\">\n",
              "\n",
              "<svg xmlns=\"http://www.w3.org/2000/svg\" height=\"24px\"viewBox=\"0 0 24 24\"\n",
              "     width=\"24px\">\n",
              "    <g>\n",
              "        <path d=\"M19 3H5c-1.1 0-2 .9-2 2v14c0 1.1.9 2 2 2h14c1.1 0 2-.9 2-2V5c0-1.1-.9-2-2-2zM9 17H7v-7h2v7zm4 0h-2V7h2v10zm4 0h-2v-4h2v4z\"/>\n",
              "    </g>\n",
              "</svg>\n",
              "  </button>\n",
              "\n",
              "<style>\n",
              "  .colab-df-quickchart {\n",
              "      --bg-color: #E8F0FE;\n",
              "      --fill-color: #1967D2;\n",
              "      --hover-bg-color: #E2EBFA;\n",
              "      --hover-fill-color: #174EA6;\n",
              "      --disabled-fill-color: #AAA;\n",
              "      --disabled-bg-color: #DDD;\n",
              "  }\n",
              "\n",
              "  [theme=dark] .colab-df-quickchart {\n",
              "      --bg-color: #3B4455;\n",
              "      --fill-color: #D2E3FC;\n",
              "      --hover-bg-color: #434B5C;\n",
              "      --hover-fill-color: #FFFFFF;\n",
              "      --disabled-bg-color: #3B4455;\n",
              "      --disabled-fill-color: #666;\n",
              "  }\n",
              "\n",
              "  .colab-df-quickchart {\n",
              "    background-color: var(--bg-color);\n",
              "    border: none;\n",
              "    border-radius: 50%;\n",
              "    cursor: pointer;\n",
              "    display: none;\n",
              "    fill: var(--fill-color);\n",
              "    height: 32px;\n",
              "    padding: 0;\n",
              "    width: 32px;\n",
              "  }\n",
              "\n",
              "  .colab-df-quickchart:hover {\n",
              "    background-color: var(--hover-bg-color);\n",
              "    box-shadow: 0 1px 2px rgba(60, 64, 67, 0.3), 0 1px 3px 1px rgba(60, 64, 67, 0.15);\n",
              "    fill: var(--button-hover-fill-color);\n",
              "  }\n",
              "\n",
              "  .colab-df-quickchart-complete:disabled,\n",
              "  .colab-df-quickchart-complete:disabled:hover {\n",
              "    background-color: var(--disabled-bg-color);\n",
              "    fill: var(--disabled-fill-color);\n",
              "    box-shadow: none;\n",
              "  }\n",
              "\n",
              "  .colab-df-spinner {\n",
              "    border: 2px solid var(--fill-color);\n",
              "    border-color: transparent;\n",
              "    border-bottom-color: var(--fill-color);\n",
              "    animation:\n",
              "      spin 1s steps(1) infinite;\n",
              "  }\n",
              "\n",
              "  @keyframes spin {\n",
              "    0% {\n",
              "      border-color: transparent;\n",
              "      border-bottom-color: var(--fill-color);\n",
              "      border-left-color: var(--fill-color);\n",
              "    }\n",
              "    20% {\n",
              "      border-color: transparent;\n",
              "      border-left-color: var(--fill-color);\n",
              "      border-top-color: var(--fill-color);\n",
              "    }\n",
              "    30% {\n",
              "      border-color: transparent;\n",
              "      border-left-color: var(--fill-color);\n",
              "      border-top-color: var(--fill-color);\n",
              "      border-right-color: var(--fill-color);\n",
              "    }\n",
              "    40% {\n",
              "      border-color: transparent;\n",
              "      border-right-color: var(--fill-color);\n",
              "      border-top-color: var(--fill-color);\n",
              "    }\n",
              "    60% {\n",
              "      border-color: transparent;\n",
              "      border-right-color: var(--fill-color);\n",
              "    }\n",
              "    80% {\n",
              "      border-color: transparent;\n",
              "      border-right-color: var(--fill-color);\n",
              "      border-bottom-color: var(--fill-color);\n",
              "    }\n",
              "    90% {\n",
              "      border-color: transparent;\n",
              "      border-bottom-color: var(--fill-color);\n",
              "    }\n",
              "  }\n",
              "</style>\n",
              "\n",
              "  <script>\n",
              "    async function quickchart(key) {\n",
              "      const quickchartButtonEl =\n",
              "        document.querySelector('#' + key + ' button');\n",
              "      quickchartButtonEl.disabled = true;  // To prevent multiple clicks.\n",
              "      quickchartButtonEl.classList.add('colab-df-spinner');\n",
              "      try {\n",
              "        const charts = await google.colab.kernel.invokeFunction(\n",
              "            'suggestCharts', [key], {});\n",
              "      } catch (error) {\n",
              "        console.error('Error during call to suggestCharts:', error);\n",
              "      }\n",
              "      quickchartButtonEl.classList.remove('colab-df-spinner');\n",
              "      quickchartButtonEl.classList.add('colab-df-quickchart-complete');\n",
              "    }\n",
              "    (() => {\n",
              "      let quickchartButtonEl =\n",
              "        document.querySelector('#df-be9dc4c8-7d42-4d2f-bf33-e036d7f61fb8 button');\n",
              "      quickchartButtonEl.style.display =\n",
              "        google.colab.kernel.accessAllowed ? 'block' : 'none';\n",
              "    })();\n",
              "  </script>\n",
              "</div>\n",
              "    </div>\n",
              "  </div>\n"
            ]
          },
          "metadata": {},
          "execution_count": 9
        }
      ],
      "source": [
        "test = pd.read_csv(test_data)\n",
        "test.head()"
      ]
    },
    {
      "cell_type": "code",
      "source": [
        "test.describe()"
      ],
      "metadata": {
        "colab": {
          "base_uri": "https://localhost:8080/",
          "height": 300
        },
        "id": "6u5SAf4vlDSU",
        "outputId": "a2d2866b-fd8e-4a92-fcce-9ba1e04eb7fd"
      },
      "id": "6u5SAf4vlDSU",
      "execution_count": null,
      "outputs": [
        {
          "output_type": "execute_result",
          "data": {
            "text/plain": [
              "       Ammonium-mg/L  Nitrate-mg/L  DissolvedOxygen-mg/L  TotalNitrogen-mg/L  \\\n",
              "count     8,020.0000    8,020.0000            8,020.0000          8,020.0000   \n",
              "mean          1.0411        1.1555                2.3206              2.0044   \n",
              "std           0.2839        0.4153                0.7881              0.6669   \n",
              "min           1.0000        1.0000                1.0000              1.0000   \n",
              "25%           1.0000        1.0000                2.0000              2.0000   \n",
              "50%           1.0000        1.0000                3.0000              2.0000   \n",
              "75%           1.0000        1.0000                3.0000              2.0000   \n",
              "max           3.0000        3.0000                3.0000              3.0000   \n",
              "\n",
              "       Phosphate-mg/L  TotalPhosphorus-mg/L  Chlorophyll-mg/L  \n",
              "count      8,020.0000            8,020.0000        8,020.0000  \n",
              "mean           1.0622                1.0446            1.0001  \n",
              "std            0.3209                0.2933            0.0112  \n",
              "min            1.0000                1.0000            1.0000  \n",
              "25%            1.0000                1.0000            1.0000  \n",
              "50%            1.0000                1.0000            1.0000  \n",
              "75%            1.0000                1.0000            1.0000  \n",
              "max            3.0000                3.0000            2.0000  "
            ],
            "text/html": [
              "\n",
              "  <div id=\"df-b809f5d4-f0fe-47fc-b30f-dfcf537f850d\" class=\"colab-df-container\">\n",
              "    <div>\n",
              "<style scoped>\n",
              "    .dataframe tbody tr th:only-of-type {\n",
              "        vertical-align: middle;\n",
              "    }\n",
              "\n",
              "    .dataframe tbody tr th {\n",
              "        vertical-align: top;\n",
              "    }\n",
              "\n",
              "    .dataframe thead th {\n",
              "        text-align: right;\n",
              "    }\n",
              "</style>\n",
              "<table border=\"1\" class=\"dataframe\">\n",
              "  <thead>\n",
              "    <tr style=\"text-align: right;\">\n",
              "      <th></th>\n",
              "      <th>Ammonium-mg/L</th>\n",
              "      <th>Nitrate-mg/L</th>\n",
              "      <th>DissolvedOxygen-mg/L</th>\n",
              "      <th>TotalNitrogen-mg/L</th>\n",
              "      <th>Phosphate-mg/L</th>\n",
              "      <th>TotalPhosphorus-mg/L</th>\n",
              "      <th>Chlorophyll-mg/L</th>\n",
              "    </tr>\n",
              "  </thead>\n",
              "  <tbody>\n",
              "    <tr>\n",
              "      <th>count</th>\n",
              "      <td>8,020.0000</td>\n",
              "      <td>8,020.0000</td>\n",
              "      <td>8,020.0000</td>\n",
              "      <td>8,020.0000</td>\n",
              "      <td>8,020.0000</td>\n",
              "      <td>8,020.0000</td>\n",
              "      <td>8,020.0000</td>\n",
              "    </tr>\n",
              "    <tr>\n",
              "      <th>mean</th>\n",
              "      <td>1.0411</td>\n",
              "      <td>1.1555</td>\n",
              "      <td>2.3206</td>\n",
              "      <td>2.0044</td>\n",
              "      <td>1.0622</td>\n",
              "      <td>1.0446</td>\n",
              "      <td>1.0001</td>\n",
              "    </tr>\n",
              "    <tr>\n",
              "      <th>std</th>\n",
              "      <td>0.2839</td>\n",
              "      <td>0.4153</td>\n",
              "      <td>0.7881</td>\n",
              "      <td>0.6669</td>\n",
              "      <td>0.3209</td>\n",
              "      <td>0.2933</td>\n",
              "      <td>0.0112</td>\n",
              "    </tr>\n",
              "    <tr>\n",
              "      <th>min</th>\n",
              "      <td>1.0000</td>\n",
              "      <td>1.0000</td>\n",
              "      <td>1.0000</td>\n",
              "      <td>1.0000</td>\n",
              "      <td>1.0000</td>\n",
              "      <td>1.0000</td>\n",
              "      <td>1.0000</td>\n",
              "    </tr>\n",
              "    <tr>\n",
              "      <th>25%</th>\n",
              "      <td>1.0000</td>\n",
              "      <td>1.0000</td>\n",
              "      <td>2.0000</td>\n",
              "      <td>2.0000</td>\n",
              "      <td>1.0000</td>\n",
              "      <td>1.0000</td>\n",
              "      <td>1.0000</td>\n",
              "    </tr>\n",
              "    <tr>\n",
              "      <th>50%</th>\n",
              "      <td>1.0000</td>\n",
              "      <td>1.0000</td>\n",
              "      <td>3.0000</td>\n",
              "      <td>2.0000</td>\n",
              "      <td>1.0000</td>\n",
              "      <td>1.0000</td>\n",
              "      <td>1.0000</td>\n",
              "    </tr>\n",
              "    <tr>\n",
              "      <th>75%</th>\n",
              "      <td>1.0000</td>\n",
              "      <td>1.0000</td>\n",
              "      <td>3.0000</td>\n",
              "      <td>2.0000</td>\n",
              "      <td>1.0000</td>\n",
              "      <td>1.0000</td>\n",
              "      <td>1.0000</td>\n",
              "    </tr>\n",
              "    <tr>\n",
              "      <th>max</th>\n",
              "      <td>3.0000</td>\n",
              "      <td>3.0000</td>\n",
              "      <td>3.0000</td>\n",
              "      <td>3.0000</td>\n",
              "      <td>3.0000</td>\n",
              "      <td>3.0000</td>\n",
              "      <td>2.0000</td>\n",
              "    </tr>\n",
              "  </tbody>\n",
              "</table>\n",
              "</div>\n",
              "    <div class=\"colab-df-buttons\">\n",
              "\n",
              "  <div class=\"colab-df-container\">\n",
              "    <button class=\"colab-df-convert\" onclick=\"convertToInteractive('df-b809f5d4-f0fe-47fc-b30f-dfcf537f850d')\"\n",
              "            title=\"Convert this dataframe to an interactive table.\"\n",
              "            style=\"display:none;\">\n",
              "\n",
              "  <svg xmlns=\"http://www.w3.org/2000/svg\" height=\"24px\" viewBox=\"0 -960 960 960\">\n",
              "    <path d=\"M120-120v-720h720v720H120Zm60-500h600v-160H180v160Zm220 220h160v-160H400v160Zm0 220h160v-160H400v160ZM180-400h160v-160H180v160Zm440 0h160v-160H620v160ZM180-180h160v-160H180v160Zm440 0h160v-160H620v160Z\"/>\n",
              "  </svg>\n",
              "    </button>\n",
              "\n",
              "  <style>\n",
              "    .colab-df-container {\n",
              "      display:flex;\n",
              "      gap: 12px;\n",
              "    }\n",
              "\n",
              "    .colab-df-convert {\n",
              "      background-color: #E8F0FE;\n",
              "      border: none;\n",
              "      border-radius: 50%;\n",
              "      cursor: pointer;\n",
              "      display: none;\n",
              "      fill: #1967D2;\n",
              "      height: 32px;\n",
              "      padding: 0 0 0 0;\n",
              "      width: 32px;\n",
              "    }\n",
              "\n",
              "    .colab-df-convert:hover {\n",
              "      background-color: #E2EBFA;\n",
              "      box-shadow: 0px 1px 2px rgba(60, 64, 67, 0.3), 0px 1px 3px 1px rgba(60, 64, 67, 0.15);\n",
              "      fill: #174EA6;\n",
              "    }\n",
              "\n",
              "    .colab-df-buttons div {\n",
              "      margin-bottom: 4px;\n",
              "    }\n",
              "\n",
              "    [theme=dark] .colab-df-convert {\n",
              "      background-color: #3B4455;\n",
              "      fill: #D2E3FC;\n",
              "    }\n",
              "\n",
              "    [theme=dark] .colab-df-convert:hover {\n",
              "      background-color: #434B5C;\n",
              "      box-shadow: 0px 1px 3px 1px rgba(0, 0, 0, 0.15);\n",
              "      filter: drop-shadow(0px 1px 2px rgba(0, 0, 0, 0.3));\n",
              "      fill: #FFFFFF;\n",
              "    }\n",
              "  </style>\n",
              "\n",
              "    <script>\n",
              "      const buttonEl =\n",
              "        document.querySelector('#df-b809f5d4-f0fe-47fc-b30f-dfcf537f850d button.colab-df-convert');\n",
              "      buttonEl.style.display =\n",
              "        google.colab.kernel.accessAllowed ? 'block' : 'none';\n",
              "\n",
              "      async function convertToInteractive(key) {\n",
              "        const element = document.querySelector('#df-b809f5d4-f0fe-47fc-b30f-dfcf537f850d');\n",
              "        const dataTable =\n",
              "          await google.colab.kernel.invokeFunction('convertToInteractive',\n",
              "                                                    [key], {});\n",
              "        if (!dataTable) return;\n",
              "\n",
              "        const docLinkHtml = 'Like what you see? Visit the ' +\n",
              "          '<a target=\"_blank\" href=https://colab.research.google.com/notebooks/data_table.ipynb>data table notebook</a>'\n",
              "          + ' to learn more about interactive tables.';\n",
              "        element.innerHTML = '';\n",
              "        dataTable['output_type'] = 'display_data';\n",
              "        await google.colab.output.renderOutput(dataTable, element);\n",
              "        const docLink = document.createElement('div');\n",
              "        docLink.innerHTML = docLinkHtml;\n",
              "        element.appendChild(docLink);\n",
              "      }\n",
              "    </script>\n",
              "  </div>\n",
              "\n",
              "\n",
              "<div id=\"df-6f842bb8-142b-43c7-acb4-e1191bd3c636\">\n",
              "  <button class=\"colab-df-quickchart\" onclick=\"quickchart('df-6f842bb8-142b-43c7-acb4-e1191bd3c636')\"\n",
              "            title=\"Suggest charts\"\n",
              "            style=\"display:none;\">\n",
              "\n",
              "<svg xmlns=\"http://www.w3.org/2000/svg\" height=\"24px\"viewBox=\"0 0 24 24\"\n",
              "     width=\"24px\">\n",
              "    <g>\n",
              "        <path d=\"M19 3H5c-1.1 0-2 .9-2 2v14c0 1.1.9 2 2 2h14c1.1 0 2-.9 2-2V5c0-1.1-.9-2-2-2zM9 17H7v-7h2v7zm4 0h-2V7h2v10zm4 0h-2v-4h2v4z\"/>\n",
              "    </g>\n",
              "</svg>\n",
              "  </button>\n",
              "\n",
              "<style>\n",
              "  .colab-df-quickchart {\n",
              "      --bg-color: #E8F0FE;\n",
              "      --fill-color: #1967D2;\n",
              "      --hover-bg-color: #E2EBFA;\n",
              "      --hover-fill-color: #174EA6;\n",
              "      --disabled-fill-color: #AAA;\n",
              "      --disabled-bg-color: #DDD;\n",
              "  }\n",
              "\n",
              "  [theme=dark] .colab-df-quickchart {\n",
              "      --bg-color: #3B4455;\n",
              "      --fill-color: #D2E3FC;\n",
              "      --hover-bg-color: #434B5C;\n",
              "      --hover-fill-color: #FFFFFF;\n",
              "      --disabled-bg-color: #3B4455;\n",
              "      --disabled-fill-color: #666;\n",
              "  }\n",
              "\n",
              "  .colab-df-quickchart {\n",
              "    background-color: var(--bg-color);\n",
              "    border: none;\n",
              "    border-radius: 50%;\n",
              "    cursor: pointer;\n",
              "    display: none;\n",
              "    fill: var(--fill-color);\n",
              "    height: 32px;\n",
              "    padding: 0;\n",
              "    width: 32px;\n",
              "  }\n",
              "\n",
              "  .colab-df-quickchart:hover {\n",
              "    background-color: var(--hover-bg-color);\n",
              "    box-shadow: 0 1px 2px rgba(60, 64, 67, 0.3), 0 1px 3px 1px rgba(60, 64, 67, 0.15);\n",
              "    fill: var(--button-hover-fill-color);\n",
              "  }\n",
              "\n",
              "  .colab-df-quickchart-complete:disabled,\n",
              "  .colab-df-quickchart-complete:disabled:hover {\n",
              "    background-color: var(--disabled-bg-color);\n",
              "    fill: var(--disabled-fill-color);\n",
              "    box-shadow: none;\n",
              "  }\n",
              "\n",
              "  .colab-df-spinner {\n",
              "    border: 2px solid var(--fill-color);\n",
              "    border-color: transparent;\n",
              "    border-bottom-color: var(--fill-color);\n",
              "    animation:\n",
              "      spin 1s steps(1) infinite;\n",
              "  }\n",
              "\n",
              "  @keyframes spin {\n",
              "    0% {\n",
              "      border-color: transparent;\n",
              "      border-bottom-color: var(--fill-color);\n",
              "      border-left-color: var(--fill-color);\n",
              "    }\n",
              "    20% {\n",
              "      border-color: transparent;\n",
              "      border-left-color: var(--fill-color);\n",
              "      border-top-color: var(--fill-color);\n",
              "    }\n",
              "    30% {\n",
              "      border-color: transparent;\n",
              "      border-left-color: var(--fill-color);\n",
              "      border-top-color: var(--fill-color);\n",
              "      border-right-color: var(--fill-color);\n",
              "    }\n",
              "    40% {\n",
              "      border-color: transparent;\n",
              "      border-right-color: var(--fill-color);\n",
              "      border-top-color: var(--fill-color);\n",
              "    }\n",
              "    60% {\n",
              "      border-color: transparent;\n",
              "      border-right-color: var(--fill-color);\n",
              "    }\n",
              "    80% {\n",
              "      border-color: transparent;\n",
              "      border-right-color: var(--fill-color);\n",
              "      border-bottom-color: var(--fill-color);\n",
              "    }\n",
              "    90% {\n",
              "      border-color: transparent;\n",
              "      border-bottom-color: var(--fill-color);\n",
              "    }\n",
              "  }\n",
              "</style>\n",
              "\n",
              "  <script>\n",
              "    async function quickchart(key) {\n",
              "      const quickchartButtonEl =\n",
              "        document.querySelector('#' + key + ' button');\n",
              "      quickchartButtonEl.disabled = true;  // To prevent multiple clicks.\n",
              "      quickchartButtonEl.classList.add('colab-df-spinner');\n",
              "      try {\n",
              "        const charts = await google.colab.kernel.invokeFunction(\n",
              "            'suggestCharts', [key], {});\n",
              "      } catch (error) {\n",
              "        console.error('Error during call to suggestCharts:', error);\n",
              "      }\n",
              "      quickchartButtonEl.classList.remove('colab-df-spinner');\n",
              "      quickchartButtonEl.classList.add('colab-df-quickchart-complete');\n",
              "    }\n",
              "    (() => {\n",
              "      let quickchartButtonEl =\n",
              "        document.querySelector('#df-6f842bb8-142b-43c7-acb4-e1191bd3c636 button');\n",
              "      quickchartButtonEl.style.display =\n",
              "        google.colab.kernel.accessAllowed ? 'block' : 'none';\n",
              "    })();\n",
              "  </script>\n",
              "</div>\n",
              "    </div>\n",
              "  </div>\n"
            ]
          },
          "metadata": {},
          "execution_count": 10
        }
      ]
    },
    {
      "cell_type": "markdown",
      "source": [
        "## 2.3 Scale the Data\n",
        "\n",
        "Before saving and using the data for model training and testing, it's crucial to scale the features, especially since the distribution of the data is uneven. Scaling ensures that all features are on a consistent scale, which is fundamental for the proper functioning of many machine learning algorithms.\n",
        "\n",
        "In this project, we will employ the MinMax Scaler to scale the data. The MinMax Scaler transforms the data in such a way that it falls within the range of [0, 1]. This is particularly useful when dealing with features that have varying ranges, as it helps maintain the relative relationships between values while ensuring that no single feature dominates the others in terms of magnitude. It's an excellent choice for our dataset, considering the uneven distribution of the data.\n",
        "\n",
        "By using the MinMax Scaler, we ensure that all features contribute equally to the machine learning models, ultimately leading to more accurate and robust water quality classification results."
      ],
      "metadata": {
        "id": "SIfJ4GCRGnq6"
      },
      "id": "SIfJ4GCRGnq6"
    },
    {
      "cell_type": "code",
      "source": [
        "features_to_scale = ['Ammonium-mg/L', 'Nitrate-mg/L', 'DissolvedOxygen-mg/L', 'TotalNitrogen-mg/L', 'Phosphate-mg/L', 'TotalPhosphorus-mg/L', 'Chlorophyll-mg/L']\n",
        "\n",
        "scaler = MinMaxScaler()\n",
        "\n",
        "# Fit the scaler on the training data\n",
        "scaler.fit(train[features_to_scale])\n",
        "\n",
        "# Transform the training data\n",
        "train[features_to_scale] = scaler.transform(train[features_to_scale])\n",
        "\n",
        "# Transform the testing data\n",
        "test[features_to_scale] = scaler.transform(test[features_to_scale])"
      ],
      "metadata": {
        "colab": {
          "base_uri": "https://localhost:8080/"
        },
        "id": "1ldOgoy_G0wg",
        "outputId": "9ea95310-d23b-4c19-a406-7d35bea1bc7d"
      },
      "execution_count": null,
      "outputs": [
        {
          "output_type": "stream",
          "name": "stderr",
          "text": [
            "<ipython-input-200-b41941553e17>:9: SettingWithCopyWarning: \n",
            "A value is trying to be set on a copy of a slice from a DataFrame.\n",
            "Try using .loc[row_indexer,col_indexer] = value instead\n",
            "\n",
            "See the caveats in the documentation: https://pandas.pydata.org/pandas-docs/stable/user_guide/indexing.html#returning-a-view-versus-a-copy\n",
            "  df_IT[features_to_scale] = scaler.transform(df_IT[features_to_scale])\n",
            "<ipython-input-200-b41941553e17>:12: SettingWithCopyWarning: \n",
            "A value is trying to be set on a copy of a slice from a DataFrame.\n",
            "Try using .loc[row_indexer,col_indexer] = value instead\n",
            "\n",
            "See the caveats in the documentation: https://pandas.pydata.org/pandas-docs/stable/user_guide/indexing.html#returning-a-view-versus-a-copy\n",
            "  df_SW[features_to_scale] = scaler.transform(df_SW[features_to_scale])\n"
          ]
        }
      ],
      "id": "1ldOgoy_G0wg"
    },
    {
      "cell_type": "markdown",
      "source": [
        "## 3. Classification Models Default Parameters\n",
        "In this section, we'll provide an overview of the default parameters for the classification models used in this project. These default settings serve as the baseline configurations for each model before any hyperparameter tuning is performed. Understanding these defaults is crucial for comprehending the initial behavior of the models and their out-of-the-box performance.\n",
        "\n",
        "### 3.1 Decision Tree\n",
        "**Default Parameters:**\n",
        "\n",
        "- Criterion: The default criterion for splitting is usually \"gini\" or \"entropy,\" depending on the implementation. The criterion determines how the algorithm makes decisions about node splitting.\n",
        "- Splitter: The splitter can be \"best\" or \"random.\" It dictates how the algorithm chooses the split at each node.\n",
        "- Max Depth: By default, the decision tree can grow until all leaves are pure (no misclassifications) or until they contain a minimum number of samples.\n",
        "- More model paramaters [link](https://scikit-learn.org/stable/modules/generated/sklearn.tree.DecisionTreeClassifier.html)\n",
        "\n",
        "### 3.2 Support Vector Machine (SVM)\n",
        "**Default Parameters:**\n",
        "\n",
        "- Kernel: The default kernel is typically \"rbf\" (Radial Basis Function), which works well for most cases.\n",
        "- C (Regularization Parameter): This is typically set to 1.0 by default. It controls the trade-off between maximizing the margin and minimizing the classification error.\n",
        "- Gamma: The default value for gamma often varies between implementations and depends on the scale of the input data.\n",
        "- More model paramaters [link](https://scikit-learn.org/stable/modules/generated/sklearn.svm.SVC.html)\n",
        "\n",
        "### 3.3 K-Nearest Neighbor (KNN)\n",
        "**Default Parameters:**\n",
        "\n",
        "- Number of Neighbors (k): The default number of neighbors considered for classification is usually set to 5.\n",
        "- Distance Metric: Euclidean distance is commonly used as the default distance metric, but other metrics such as Manhattan distance can also be used.\n",
        "- More model paramaters [link](https://scikit-learn.org/stable/modules/generated/sklearn.neighbors.KNeighborsClassifier.html)\n",
        "\n",
        "These default parameters serve as the starting point for our models. In the subsequent sections, we will explore how fine-tuning these parameters can lead to improved classification performance and better alignment with our goal of accurately categorizing water quality into \"Low,\" \"Medium,\" and \"High.\"\n",
        "\n",
        "\n",
        "\n",
        "\n"
      ],
      "metadata": {
        "id": "RkXeF0JOj6N8"
      },
      "id": "RkXeF0JOj6N8"
    },
    {
      "cell_type": "code",
      "source": [
        "np.random.seed(42)\n",
        "# split train data\n",
        "X_train = train.drop(['MonitoringSiteID', 'TimeSamplingDate', 'WQI'], axis=1)\n",
        "y_train = train['WQI']\n",
        "print(X_train.shape, y_train.shape)\n",
        "\n",
        "# split testing data\n",
        "X_test = test.drop(['MonitoringSiteID', 'TimeSamplingDate', 'WQI'], axis=1)\n",
        "y_test = test['WQI']\n",
        "print(X_test.shape, y_test.shape)"
      ],
      "metadata": {
        "colab": {
          "base_uri": "https://localhost:8080/"
        },
        "id": "ZaEfdj3-WKcl",
        "outputId": "9f4875e9-926b-42f3-e4d6-651f96c1a964"
      },
      "id": "ZaEfdj3-WKcl",
      "execution_count": null,
      "outputs": [
        {
          "output_type": "stream",
          "name": "stdout",
          "text": [
            "(2342490, 7) (2342490,)\n",
            "(8020, 7) (8020,)\n"
          ]
        }
      ]
    },
    {
      "cell_type": "markdown",
      "source": [
        "### 3.1 Decesion Tree Model"
      ],
      "metadata": {
        "id": "VTyGUiwmKPfz"
      },
      "id": "VTyGUiwmKPfz"
    },
    {
      "cell_type": "code",
      "source": [
        "# Decesion Tree Model design default parameters\n",
        "\n",
        "from sklearn.tree import DecisionTreeClassifier\n",
        "from sklearn.metrics import accuracy_score, confusion_matrix, classification_report\n",
        "\n",
        "dt_model_default = DecisionTreeClassifier(random_state=42)\n",
        "dt_model_default.fit(X_train, y_train)"
      ],
      "metadata": {
        "colab": {
          "base_uri": "https://localhost:8080/"
        },
        "id": "HyME-dsHKOa5",
        "outputId": "66da00a5-35cc-46bb-c0f1-7cb7786c39b2"
      },
      "execution_count": null,
      "outputs": [
        {
          "output_type": "execute_result",
          "data": {
            "text/plain": [
              "DecisionTreeClassifier(random_state=42)"
            ]
          },
          "metadata": {},
          "execution_count": 68
        }
      ],
      "id": "HyME-dsHKOa5"
    },
    {
      "cell_type": "code",
      "source": [
        "# DT model Score with default parameters\n",
        "\n",
        "dt_model_default.score(X_test, y_test)"
      ],
      "metadata": {
        "colab": {
          "base_uri": "https://localhost:8080/"
        },
        "id": "n0Mca0wFNP5w",
        "outputId": "1fecd5b6-5ecf-4bbf-8178-78f019c092cb"
      },
      "execution_count": null,
      "outputs": [
        {
          "output_type": "execute_result",
          "data": {
            "text/plain": [
              "0.8742645456526477"
            ]
          },
          "metadata": {},
          "execution_count": 69
        }
      ],
      "id": "n0Mca0wFNP5w"
    },
    {
      "cell_type": "code",
      "source": [
        "# Train and Test predictions for evaluation of the model with default parameters\n",
        "\n",
        "pred_dt_test_default = dt_model_default.predict(X_val)\n",
        "pred_dt_train_default = dt_model_default.predict(X_train)"
      ],
      "metadata": {
        "id": "dX9mro3CNmWE"
      },
      "execution_count": null,
      "outputs": [],
      "id": "dX9mro3CNmWE"
    },
    {
      "cell_type": "code",
      "source": [
        "print(classification_report(y_test, pred_dt_test_default))"
      ],
      "metadata": {
        "colab": {
          "base_uri": "https://localhost:8080/"
        },
        "id": "DZmHYqSMNy7Q",
        "outputId": "385cffce-0dc7-43ce-d279-aec780176066"
      },
      "execution_count": null,
      "outputs": [
        {
          "output_type": "stream",
          "name": "stdout",
          "text": [
            "              precision    recall  f1-score   support\n",
            "\n",
            "        High       1.00      0.51      0.67      1148\n",
            "         Low       0.96      1.00      0.98       326\n",
            "         Med       0.85      1.00      0.91      3115\n",
            "\n",
            "    accuracy                           0.87      4589\n",
            "   macro avg       0.94      0.83      0.86      4589\n",
            "weighted avg       0.89      0.87      0.86      4589\n",
            "\n"
          ]
        }
      ],
      "id": "DZmHYqSMNy7Q"
    },
    {
      "cell_type": "code",
      "source": [
        "# Confusion Matrix DT with default parameters\n",
        "from sklearn import metrics\n",
        "\n",
        "confusion_matrix = metrics.confusion_matrix(y_test, pred_dt_test_default)\n",
        "matrix_df = pd.DataFrame(confusion_matrix)\n",
        "ax = plt.axes()\n",
        "sns.set(font_scale=(1.3))\n",
        "plt.figure(figsize=(10, 7))\n",
        "sns.heatmap(matrix_df, annot=True, fmt='g', ax = ax, cmap='magma')\n",
        "ax.set_title('Confusion Matrix - Decision Tree Default Parameters')\n",
        "ax.set_xlabel('Prediction label', fontsize=15)\n",
        "ax.set_xticklabels(''+y_test.unique())\n",
        "ax.set_yticklabels(list(y_test.unique()))\n",
        "ax.set_ylabel('True Lable', fontsize=15)\n",
        "plt.show()"
      ],
      "metadata": {
        "colab": {
          "base_uri": "https://localhost:8080/",
          "height": 322
        },
        "id": "vOeCoXonO5JL",
        "outputId": "caa6ac5c-2d0d-437b-dce6-91f384632beb"
      },
      "execution_count": null,
      "outputs": [
        {
          "output_type": "display_data",
          "data": {
            "text/plain": [
              "<Figure size 432x288 with 2 Axes>"
            ],
            "image/png": "[encoded data removed]"
          },
          "metadata": {}
        },
        {
          "output_type": "display_data",
          "data": {
            "text/plain": [
              "<Figure size 720x504 with 0 Axes>"
            ]
          },
          "metadata": {}
        }
      ],
      "id": "vOeCoXonO5JL"
    },
    {
      "cell_type": "code",
      "source": [
        "# Train and Test accuracy scores\n",
        "pred_train = dt_model_default.predict(X_train)\n",
        "acc_dt_train = accuracy_score(y_train, pred_train)*100\n",
        "pred_test = dt_model_default.predict(X_test)\n",
        "acc_dt_test = accuracy_score(y_test, pred_test)*100\n",
        "print(f'Decision Tree Classifier accuracy score on training Data with default parametars: {acc_dt_train} ')\n",
        "print(f'Decision Tree Classifier accuracy score on testing Data with default parametars: {acc_dt_test} ')\n"
      ],
      "metadata": {
        "colab": {
          "base_uri": "https://localhost:8080/"
        },
        "id": "SwQumPxOWUTj",
        "outputId": "418da434-f425-4670-eaf9-c50a513b4d17"
      },
      "execution_count": null,
      "outputs": [
        {
          "output_type": "stream",
          "name": "stdout",
          "text": [
            "Decision Tree Classifier accuracy score on training Data with default parametars: 100.0 \n",
            "Decision Tree Classifier accuracy score on testing Data with default parametars: 87.42645456526476 \n"
          ]
        }
      ],
      "id": "SwQumPxOWUTj"
    },
    {
      "cell_type": "code",
      "source": [
        "from sklearn import tree\n",
        "class_values = ['Low', 'Med', 'High']\n",
        "fig = plt.figure(figsize=(25,20))\n",
        "_ = tree.plot_tree(dt_model_default,\n",
        "                   feature_names=X_test.columns,\n",
        "                   class_names=class_values,\n",
        "                   filled=True)"
      ],
      "metadata": {
        "colab": {
          "base_uri": "https://localhost:8080/",
          "height": 655
        },
        "id": "GPivPGrklgLQ",
        "outputId": "573533dd-19a3-4abd-e686-abaee9c859e0"
      },
      "execution_count": null,
      "outputs": [
        {
          "output_type": "display_data",
          "data": {
            "text/plain": [
              "<Figure size 1800x1440 with 1 Axes>"
            ],
            "image/png": "[encoded data removed]"
          },
          "metadata": {}
        }
      ],
      "id": "GPivPGrklgLQ"
    },
    {
      "cell_type": "markdown",
      "source": [
        "### 3.2 Support Vector Classifier (SVC) Model"
      ],
      "metadata": {
        "id": "prcTr-rvKd1y"
      },
      "id": "prcTr-rvKd1y"
    },
    {
      "cell_type": "code",
      "source": [
        "# SVC Model design with default parameters\n",
        "\n",
        "from sklearn.svm import SVC, LinearSVC\n",
        "\n",
        "svc_model_default = SVC(probability=True, random_state=345)\n",
        "svc_model_default.fit(X_train, y_train)"
      ],
      "metadata": {
        "id": "ANUn8AZtKp6m",
        "colab": {
          "base_uri": "https://localhost:8080/"
        },
        "outputId": "68336f12-2892-4127-d60b-579c8860df95"
      },
      "execution_count": null,
      "outputs": [
        {
          "output_type": "execute_result",
          "data": {
            "text/plain": [
              "SVC(probability=True, random_state=345)"
            ]
          },
          "metadata": {},
          "execution_count": 75
        }
      ],
      "id": "ANUn8AZtKp6m"
    },
    {
      "cell_type": "code",
      "source": [
        "# SVC on score on testing data\n",
        "\n",
        "svc_model_default.score(X_test, y_test)"
      ],
      "metadata": {
        "id": "iG1nKlaI_Ihd",
        "colab": {
          "base_uri": "https://localhost:8080/"
        },
        "outputId": "ac6174e6-ef50-4035-bc54-b53e04e793f6"
      },
      "execution_count": null,
      "outputs": [
        {
          "output_type": "execute_result",
          "data": {
            "text/plain": [
              "0.9843103072564829"
            ]
          },
          "metadata": {},
          "execution_count": 76
        }
      ],
      "id": "iG1nKlaI_Ihd"
    },
    {
      "cell_type": "code",
      "source": [
        "pred_svc_test_default = svc_model_default.predict(X_test)\n",
        "pred_svc_train_default = svc_model_default.predict(X_train)"
      ],
      "metadata": {
        "id": "9yo2P9AnTNEf"
      },
      "execution_count": null,
      "outputs": [],
      "id": "9yo2P9AnTNEf"
    },
    {
      "cell_type": "code",
      "source": [
        "from sklearn.metrics import classification_report\n",
        "print(classification_report(y_test, pred_svc_test_default))"
      ],
      "metadata": {
        "colab": {
          "base_uri": "https://localhost:8080/"
        },
        "id": "3vMQxyAGTscm",
        "outputId": "982db4fd-9735-4a08-cff2-20453b94485f"
      },
      "execution_count": null,
      "outputs": [
        {
          "output_type": "stream",
          "name": "stdout",
          "text": [
            "              precision    recall  f1-score   support\n",
            "\n",
            "        High       0.96      0.99      0.97      1148\n",
            "         Low       0.96      1.00      0.98       326\n",
            "         Med       1.00      0.98      0.99      3115\n",
            "\n",
            "    accuracy                           0.98      4589\n",
            "   macro avg       0.97      0.99      0.98      4589\n",
            "weighted avg       0.98      0.98      0.98      4589\n",
            "\n"
          ]
        }
      ],
      "id": "3vMQxyAGTscm"
    },
    {
      "cell_type": "code",
      "source": [
        "# COnfusion Matrix\n",
        "\n",
        "confusion_matrix_svc = metrics.confusion_matrix(y_test, pred_svc_test_default)\n",
        "matrix_df_svc = pd.DataFrame(confusion_matrix_svc)\n",
        "ax = plt.axes()\n",
        "sns.set(font_scale=(1.3))\n",
        "plt.figure(figsize=(18,7))\n",
        "sns.heatmap(matrix_df_svc, annot=True, fmt='g', ax=ax, cmap='magma')\n",
        "ax.set_title('Confusion Matrix - SVC Default Parameters')\n",
        "ax.set_xlabel('Prediction Lable', fontsize=15)\n",
        "ax.set_xticklabels('' + y_test.unique())\n",
        "ax.set_yticklabels(list(y_test.unique()))\n",
        "ax.set_ylabel('True Lable', fontsize=15)\n",
        "plt.show()"
      ],
      "metadata": {
        "colab": {
          "base_uri": "https://localhost:8080/",
          "height": 326
        },
        "id": "dy2-VH28ULMJ",
        "outputId": "19eb7414-fb06-4768-abd2-34445f7eb76e"
      },
      "execution_count": null,
      "outputs": [
        {
          "output_type": "display_data",
          "data": {
            "text/plain": [
              "<Figure size 432x288 with 2 Axes>"
            ],
            "image/png": "[encoded data removed]"
          },
          "metadata": {}
        },
        {
          "output_type": "display_data",
          "data": {
            "text/plain": [
              "<Figure size 1296x504 with 0 Axes>"
            ]
          },
          "metadata": {}
        }
      ],
      "id": "dy2-VH28ULMJ"
    },
    {
      "cell_type": "code",
      "source": [
        "pred_train = svc_model_default.predict(X_train)\n",
        "acc_svc_train = accuracy_score(y_train, pred_train)*100\n",
        "pred_test = svc_model_default.predict(X_test)\n",
        "acc_svc_test = accuracy_score(y_test, pred_test)*100\n",
        "print(f'Support Vector Classifier accuracy score on training Data with default parametars: {acc_svc_train} ')\n",
        "print(f'Support Vector Classifier accuracy score on testing Data with default parametars: {acc_svc_test} ')"
      ],
      "metadata": {
        "colab": {
          "base_uri": "https://localhost:8080/"
        },
        "id": "_fM2O3VvaLIO",
        "outputId": "3f71c99a-16d5-434c-c803-5502469fad5f"
      },
      "execution_count": null,
      "outputs": [
        {
          "output_type": "stream",
          "name": "stdout",
          "text": [
            "Support Vector Classifier accuracy score on training Data with default parametars: 100.0 \n",
            "Support Vector Classifier accuracy score on testing Data with default parametars: 98.4310307256483 \n"
          ]
        }
      ],
      "id": "_fM2O3VvaLIO"
    },
    {
      "cell_type": "markdown",
      "source": [
        "### 3.3 KNeighbors (KNN) Model"
      ],
      "metadata": {
        "id": "8PeIqRJ0Krlr"
      },
      "id": "8PeIqRJ0Krlr"
    },
    {
      "cell_type": "code",
      "source": [
        "# KNN Model design with default parameters\n",
        "\n",
        "from sklearn.neighbors import KNeighborsClassifier\n",
        "\n",
        "knn_model_default = KNeighborsClassifier()\n",
        "knn_model_default.fit(X_train, y_train)"
      ],
      "metadata": {
        "colab": {
          "base_uri": "https://localhost:8080/"
        },
        "id": "c3N4cxfhKz_0",
        "outputId": "720c5c12-977c-48c3-ecc6-fa0d326ee06e"
      },
      "execution_count": null,
      "outputs": [
        {
          "output_type": "execute_result",
          "data": {
            "text/plain": [
              "KNeighborsClassifier()"
            ]
          },
          "metadata": {},
          "execution_count": 80
        }
      ],
      "id": "c3N4cxfhKz_0"
    },
    {
      "cell_type": "code",
      "source": [
        "# knn model with default parameters score on testing data\n",
        "\n",
        "knn_model_default.score(X_test, y_test)"
      ],
      "metadata": {
        "colab": {
          "base_uri": "https://localhost:8080/"
        },
        "id": "wyoR2VJoW37X",
        "outputId": "ea391220-33ef-4235-9685-5aadb978fc6d"
      },
      "execution_count": null,
      "outputs": [
        {
          "output_type": "execute_result",
          "data": {
            "text/plain": [
              "0.9058618435388973"
            ]
          },
          "metadata": {},
          "execution_count": 81
        }
      ],
      "id": "wyoR2VJoW37X"
    },
    {
      "cell_type": "code",
      "source": [
        "# Making prediciton with knn model\n",
        "\n",
        "pred_knn_test = knn_model_default.predict(X_test)"
      ],
      "metadata": {
        "id": "1hOghvhmW334"
      },
      "execution_count": null,
      "outputs": [],
      "id": "1hOghvhmW334"
    },
    {
      "cell_type": "code",
      "source": [
        "# Classification report\n",
        "\n",
        "print(classification_report(y_test, pred_knn_test))"
      ],
      "metadata": {
        "colab": {
          "base_uri": "https://localhost:8080/"
        },
        "id": "4-ry0PsCW3o9",
        "outputId": "c401214b-a580-40aa-d1db-54994843eea2"
      },
      "execution_count": null,
      "outputs": [
        {
          "output_type": "stream",
          "name": "stdout",
          "text": [
            "              precision    recall  f1-score   support\n",
            "\n",
            "        High       1.00      0.64      0.78      1148\n",
            "         Low       0.96      1.00      0.98       326\n",
            "         Med       0.88      1.00      0.93      3115\n",
            "\n",
            "    accuracy                           0.91      4589\n",
            "   macro avg       0.95      0.88      0.90      4589\n",
            "weighted avg       0.92      0.91      0.90      4589\n",
            "\n"
          ]
        }
      ],
      "id": "4-ry0PsCW3o9"
    },
    {
      "cell_type": "code",
      "source": [
        "# Confusion Matrix KNN\n",
        "\n",
        "from sklearn import metrics\n",
        "\n",
        "confusion_matrix_knn = metrics.confusion_matrix(y_test, pred_knn_test)\n",
        "matrix_df_knn = pd.DataFrame(confusion_matrix_knn)\n",
        "ax = plt.axes()\n",
        "sns.set(font_scale=(1.3))\n",
        "plt.figure(figsize=(10, 7))\n",
        "sns.heatmap(matrix_df_knn, annot=True, fmt='g', ax = ax, cmap='magma')\n",
        "ax.set_title('Confusion Matrix - KNN Default Parameters')\n",
        "ax.set_xlabel('Prediction label', fontsize=15)\n",
        "ax.set_xticklabels(''+y_test.unique())\n",
        "ax.set_yticklabels(list(y_test.unique()))\n",
        "ax.set_ylabel('True Lable', fontsize=15)\n",
        "plt.show()"
      ],
      "metadata": {
        "colab": {
          "base_uri": "https://localhost:8080/",
          "height": 326
        },
        "id": "ZHcAn3v9W3PG",
        "outputId": "904bc89f-215a-4b20-c448-bf307557a0a0"
      },
      "execution_count": null,
      "outputs": [
        {
          "output_type": "display_data",
          "data": {
            "text/plain": [
              "<Figure size 432x288 with 2 Axes>"
            ],
            "image/png": "[encoded data removed]"
          },
          "metadata": {}
        },
        {
          "output_type": "display_data",
          "data": {
            "text/plain": [
              "<Figure size 720x504 with 0 Axes>"
            ]
          },
          "metadata": {}
        }
      ],
      "id": "ZHcAn3v9W3PG"
    },
    {
      "cell_type": "code",
      "source": [
        "# pred_train = knn_default.predict(X_train_scaled)\n",
        "# acc_knn_train = accuracy_score(y_train, pred_train)f\n",
        "pred_test = knn_model_default.predict(X_test)\n",
        "acc_knn_test = accuracy_score(y_test, pred_test)\n",
        "print(f'K-Neighbors Classifier accuracy score on testing data with default parametas:  {acc_knn_test}')"
      ],
      "metadata": {
        "colab": {
          "base_uri": "https://localhost:8080/"
        },
        "id": "NpnTQkSBbmQ2",
        "outputId": "ce75fed7-062c-4cd9-da36-745ed53a4c73"
      },
      "execution_count": null,
      "outputs": [
        {
          "output_type": "stream",
          "name": "stdout",
          "text": [
            "K-Neighbors Classifier accuracy score on testing data with default parametas:  0.9058618435388973\n"
          ]
        }
      ],
      "id": "NpnTQkSBbmQ2"
    },
    {
      "cell_type": "markdown",
      "source": [
        "## HyperTuning Models Parametars"
      ],
      "metadata": {
        "id": "AjdR2OKnHMVq"
      },
      "id": "AjdR2OKnHMVq"
    },
    {
      "cell_type": "markdown",
      "source": [
        "### 1.Hyper Tune Decision Tree"
      ],
      "metadata": {
        "id": "XzroQH8IHeKz"
      },
      "id": "XzroQH8IHeKz"
    },
    {
      "cell_type": "code",
      "source": [
        "from sklearn.model_selection import GridSearchCV, cross_val_score, StratifiedKFold\n",
        "from sklearn.metrics import accuracy_score\n",
        "from sklearn.tree import DecisionTreeClassifier"
      ],
      "metadata": {
        "id": "xHgNHfkCYGmt"
      },
      "execution_count": null,
      "outputs": [],
      "id": "xHgNHfkCYGmt"
    },
    {
      "cell_type": "code",
      "source": [
        "dt = DecisionTreeClassifier()\n",
        "params = dt.get_params()\n",
        "params_dt = pd.DataFrame(params, index=[0])\n",
        "params_dt.T"
      ],
      "metadata": {
        "colab": {
          "base_uri": "https://localhost:8080/",
          "height": 425
        },
        "id": "B3UEhhvfPNS0",
        "outputId": "3388c6cd-eb77-49bf-d562-85ebdc905ba1"
      },
      "execution_count": null,
      "outputs": [
        {
          "output_type": "execute_result",
          "data": {
            "text/plain": [
              "                              0\n",
              "ccp_alpha                0.0000\n",
              "class_weight               None\n",
              "criterion                  gini\n",
              "max_depth                  None\n",
              "max_features               None\n",
              "max_leaf_nodes             None\n",
              "min_impurity_decrease    0.0000\n",
              "min_samples_leaf              1\n",
              "min_samples_split             2\n",
              "min_weight_fraction_leaf 0.0000\n",
              "random_state               None\n",
              "splitter                   best"
            ],
            "text/html": [
              "\n",
              "  <div id=\"df-ed1c470f-824d-46bc-8f67-2ec9e1592b1c\">\n",
              "    <div class=\"colab-df-container\">\n",
              "      <div>\n",
              "<style scoped>\n",
              "    .dataframe tbody tr th:only-of-type {\n",
              "        vertical-align: middle;\n",
              "    }\n",
              "\n",
              "    .dataframe tbody tr th {\n",
              "        vertical-align: top;\n",
              "    }\n",
              "\n",
              "    .dataframe thead th {\n",
              "        text-align: right;\n",
              "    }\n",
              "</style>\n",
              "<table border=\"1\" class=\"dataframe\">\n",
              "  <thead>\n",
              "    <tr style=\"text-align: right;\">\n",
              "      <th></th>\n",
              "      <th>0</th>\n",
              "    </tr>\n",
              "  </thead>\n",
              "  <tbody>\n",
              "    <tr>\n",
              "      <th>ccp_alpha</th>\n",
              "      <td>0.0000</td>\n",
              "    </tr>\n",
              "    <tr>\n",
              "      <th>class_weight</th>\n",
              "      <td>None</td>\n",
              "    </tr>\n",
              "    <tr>\n",
              "      <th>criterion</th>\n",
              "      <td>gini</td>\n",
              "    </tr>\n",
              "    <tr>\n",
              "      <th>max_depth</th>\n",
              "      <td>None</td>\n",
              "    </tr>\n",
              "    <tr>\n",
              "      <th>max_features</th>\n",
              "      <td>None</td>\n",
              "    </tr>\n",
              "    <tr>\n",
              "      <th>max_leaf_nodes</th>\n",
              "      <td>None</td>\n",
              "    </tr>\n",
              "    <tr>\n",
              "      <th>min_impurity_decrease</th>\n",
              "      <td>0.0000</td>\n",
              "    </tr>\n",
              "    <tr>\n",
              "      <th>min_samples_leaf</th>\n",
              "      <td>1</td>\n",
              "    </tr>\n",
              "    <tr>\n",
              "      <th>min_samples_split</th>\n",
              "      <td>2</td>\n",
              "    </tr>\n",
              "    <tr>\n",
              "      <th>min_weight_fraction_leaf</th>\n",
              "      <td>0.0000</td>\n",
              "    </tr>\n",
              "    <tr>\n",
              "      <th>random_state</th>\n",
              "      <td>None</td>\n",
              "    </tr>\n",
              "    <tr>\n",
              "      <th>splitter</th>\n",
              "      <td>best</td>\n",
              "    </tr>\n",
              "  </tbody>\n",
              "</table>\n",
              "</div>\n",
              "      <button class=\"colab-df-convert\" onclick=\"convertToInteractive('df-ed1c470f-824d-46bc-8f67-2ec9e1592b1c')\"\n",
              "              title=\"Convert this dataframe to an interactive table.\"\n",
              "              style=\"display:none;\">\n",
              "        \n",
              "  <svg xmlns=\"http://www.w3.org/2000/svg\" height=\"24px\"viewBox=\"0 0 24 24\"\n",
              "       width=\"24px\">\n",
              "    <path d=\"M0 0h24v24H0V0z\" fill=\"none\"/>\n",
              "    <path d=\"M18.56 5.44l.94 2.06.94-2.06 2.06-.94-2.06-.94-.94-2.06-.94 2.06-2.06.94zm-11 1L8.5 8.5l.94-2.06 2.06-.94-2.06-.94L8.5 2.5l-.94 2.06-2.06.94zm10 10l.94 2.06.94-2.06 2.06-.94-2.06-.94-.94-2.06-.94 2.06-2.06.94z\"/><path d=\"M17.41 7.96l-1.37-1.37c-.4-.4-.92-.59-1.43-.59-.52 0-1.04.2-1.43.59L10.3 9.45l-7.72 7.72c-.78.78-.78 2.05 0 2.83L4 21.41c.39.39.9.59 1.41.59.51 0 1.02-.2 1.41-.59l7.78-7.78 2.81-2.81c.8-.78.8-2.07 0-2.86zM5.41 20L4 18.59l7.72-7.72 1.47 1.35L5.41 20z\"/>\n",
              "  </svg>\n",
              "      </button>\n",
              "      \n",
              "  <style>\n",
              "    .colab-df-container {\n",
              "      display:flex;\n",
              "      flex-wrap:wrap;\n",
              "      gap: 12px;\n",
              "    }\n",
              "\n",
              "    .colab-df-convert {\n",
              "      background-color: #E8F0FE;\n",
              "      border: none;\n",
              "      border-radius: 50%;\n",
              "      cursor: pointer;\n",
              "      display: none;\n",
              "      fill: #1967D2;\n",
              "      height: 32px;\n",
              "      padding: 0 0 0 0;\n",
              "      width: 32px;\n",
              "    }\n",
              "\n",
              "    .colab-df-convert:hover {\n",
              "      background-color: #E2EBFA;\n",
              "      box-shadow: 0px 1px 2px rgba(60, 64, 67, 0.3), 0px 1px 3px 1px rgba(60, 64, 67, 0.15);\n",
              "      fill: #174EA6;\n",
              "    }\n",
              "\n",
              "    [theme=dark] .colab-df-convert {\n",
              "      background-color: #3B4455;\n",
              "      fill: #D2E3FC;\n",
              "    }\n",
              "\n",
              "    [theme=dark] .colab-df-convert:hover {\n",
              "      background-color: #434B5C;\n",
              "      box-shadow: 0px 1px 3px 1px rgba(0, 0, 0, 0.15);\n",
              "      filter: drop-shadow(0px 1px 2px rgba(0, 0, 0, 0.3));\n",
              "      fill: #FFFFFF;\n",
              "    }\n",
              "  </style>\n",
              "\n",
              "      <script>\n",
              "        const buttonEl =\n",
              "          document.querySelector('#df-ed1c470f-824d-46bc-8f67-2ec9e1592b1c button.colab-df-convert');\n",
              "        buttonEl.style.display =\n",
              "          google.colab.kernel.accessAllowed ? 'block' : 'none';\n",
              "\n",
              "        async function convertToInteractive(key) {\n",
              "          const element = document.querySelector('#df-ed1c470f-824d-46bc-8f67-2ec9e1592b1c');\n",
              "          const dataTable =\n",
              "            await google.colab.kernel.invokeFunction('convertToInteractive',\n",
              "                                                     [key], {});\n",
              "          if (!dataTable) return;\n",
              "\n",
              "          const docLinkHtml = 'Like what you see? Visit the ' +\n",
              "            '<a target=\"_blank\" href=https://colab.research.google.com/notebooks/data_table.ipynb>data table notebook</a>'\n",
              "            + ' to learn more about interactive tables.';\n",
              "          element.innerHTML = '';\n",
              "          dataTable['output_type'] = 'display_data';\n",
              "          await google.colab.output.renderOutput(dataTable, element);\n",
              "          const docLink = document.createElement('div');\n",
              "          docLink.innerHTML = docLinkHtml;\n",
              "          element.appendChild(docLink);\n",
              "        }\n",
              "      </script>\n",
              "    </div>\n",
              "  </div>\n",
              "  "
            ]
          },
          "metadata": {},
          "execution_count": 153
        }
      ],
      "id": "B3UEhhvfPNS0"
    },
    {
      "cell_type": "code",
      "source": [
        "# critirion\n",
        "criterion = ['gini', 'entropy']\n",
        "# max_depth\n",
        "max_depth = [2,5,7]\n",
        "# min_samples_split\n",
        "min_samples_split = [2,4,6]\n",
        "# min_samples_leaf\n",
        "min_samples_leaf = [1,3,5]\n",
        "#spliter\n",
        "splitter = ['best', 'random']"
      ],
      "metadata": {
        "id": "xrdmUDxPQ07P"
      },
      "execution_count": null,
      "outputs": [],
      "id": "xrdmUDxPQ07P"
    },
    {
      "cell_type": "code",
      "source": [
        "param_grid = {\n",
        "    'criterion' : criterion,\n",
        "    'max_depth' : max_depth,\n",
        "    'min_samples_split' : min_samples_split,\n",
        "    'min_samples_leaf' : min_samples_leaf,\n",
        "    'splitter' : splitter,\n",
        "}\n",
        "scoring = ['accuracy']\n",
        "kfold = StratifiedKFold(n_splits=3, shuffle=True, random_state=123)"
      ],
      "metadata": {
        "id": "2ItOSKCySJTI"
      },
      "execution_count": null,
      "outputs": [],
      "id": "2ItOSKCySJTI"
    },
    {
      "cell_type": "code",
      "source": [
        "grid_serach_dt = GridSearchCV(estimator=dt,\n",
        "                           param_grid=param_grid,\n",
        "                           scoring=scoring,\n",
        "                           refit='accuracy',\n",
        "                           n_jobs=-1,\n",
        "                           cv=kfold,\n",
        "                           verbose=0)\n",
        "\n",
        "grid_result_dt = grid_serach_dt.fit(X_train, y_train)"
      ],
      "metadata": {
        "id": "dUGNio8dTxNK"
      },
      "execution_count": null,
      "outputs": [],
      "id": "dUGNio8dTxNK"
    },
    {
      "cell_type": "code",
      "source": [
        "grid_result_dt"
      ],
      "metadata": {
        "colab": {
          "base_uri": "https://localhost:8080/"
        },
        "id": "89jaLZTAivu2",
        "outputId": "6c889b09-29cf-404b-f9e6-d48ddfa43fdb"
      },
      "execution_count": null,
      "outputs": [
        {
          "output_type": "execute_result",
          "data": {
            "text/plain": [
              "GridSearchCV(cv=StratifiedKFold(n_splits=3, random_state=123, shuffle=True),\n",
              "             estimator=DecisionTreeClassifier(), n_jobs=-1,\n",
              "             param_grid={'criterion': ['gini', 'entropy'],\n",
              "                         'max_depth': [2, 5, 7], 'min_samples_leaf': [1, 3, 5],\n",
              "                         'min_samples_split': [2, 4, 6],\n",
              "                         'splitter': ['best', 'random']},\n",
              "             refit='accuracy', scoring=['accuracy'])"
            ]
          },
          "metadata": {},
          "execution_count": 187
        }
      ],
      "id": "89jaLZTAivu2"
    },
    {
      "cell_type": "code",
      "source": [
        "print(f'The best hyperparametars are {grid_result_dt.best_params_}')\n",
        "print(f'The accuracy score for the testing data is:  {grid_result_dt.score(X_test, y_test)}')"
      ],
      "metadata": {
        "colab": {
          "base_uri": "https://localhost:8080/"
        },
        "id": "H2TDfuOGkHE_",
        "outputId": "1051995d-4ee1-4234-be93-d268bbd7751a"
      },
      "execution_count": null,
      "outputs": [
        {
          "output_type": "stream",
          "name": "stdout",
          "text": [
            "The best hyperparametars are {'criterion': 'gini', 'max_depth': 5, 'min_samples_leaf': 1, 'min_samples_split': 2, 'splitter': 'best'}\n",
            "The accuracy score for the testing data is:  0.8742645456526477\n"
          ]
        }
      ],
      "id": "H2TDfuOGkHE_"
    },
    {
      "cell_type": "markdown",
      "source": [
        "### 2.Hyper Tune Support Vector Classifier"
      ],
      "metadata": {
        "id": "_jKv1IUMHiei"
      },
      "id": "_jKv1IUMHiei"
    },
    {
      "cell_type": "code",
      "source": [
        "from sklearn.model_selection import GridSearchCV, StratifiedKFold, cross_val_score\n",
        "from sklearn.metrics import accuracy_score\n",
        "from sklearn.svm import SVC"
      ],
      "metadata": {
        "id": "P88rfqxkOZ_S"
      },
      "execution_count": null,
      "outputs": [],
      "id": "P88rfqxkOZ_S"
    },
    {
      "cell_type": "code",
      "source": [
        "svc = SVC()\n",
        "params = svc.get_params()\n",
        "params_dt = pd.DataFrame(params, index=[0])\n",
        "params_dt.T"
      ],
      "metadata": {
        "colab": {
          "base_uri": "https://localhost:8080/",
          "height": 520
        },
        "id": "kb_zawGRmxob",
        "outputId": "def930d9-81f7-4e06-98fa-3a52269fa512"
      },
      "execution_count": null,
      "outputs": [
        {
          "output_type": "execute_result",
          "data": {
            "text/plain": [
              "                             0\n",
              "C                       1.0000\n",
              "break_ties               False\n",
              "cache_size                 200\n",
              "class_weight              None\n",
              "coef0                   0.0000\n",
              "decision_function_shape    ovr\n",
              "degree                       3\n",
              "gamma                    scale\n",
              "kernel                     rbf\n",
              "max_iter                    -1\n",
              "probability              False\n",
              "random_state              None\n",
              "shrinking                 True\n",
              "tol                     0.0010\n",
              "verbose                  False"
            ],
            "text/html": [
              "\n",
              "  <div id=\"df-2beea219-f5d3-4b47-b404-8fdc1afa747b\">\n",
              "    <div class=\"colab-df-container\">\n",
              "      <div>\n",
              "<style scoped>\n",
              "    .dataframe tbody tr th:only-of-type {\n",
              "        vertical-align: middle;\n",
              "    }\n",
              "\n",
              "    .dataframe tbody tr th {\n",
              "        vertical-align: top;\n",
              "    }\n",
              "\n",
              "    .dataframe thead th {\n",
              "        text-align: right;\n",
              "    }\n",
              "</style>\n",
              "<table border=\"1\" class=\"dataframe\">\n",
              "  <thead>\n",
              "    <tr style=\"text-align: right;\">\n",
              "      <th></th>\n",
              "      <th>0</th>\n",
              "    </tr>\n",
              "  </thead>\n",
              "  <tbody>\n",
              "    <tr>\n",
              "      <th>C</th>\n",
              "      <td>1.0000</td>\n",
              "    </tr>\n",
              "    <tr>\n",
              "      <th>break_ties</th>\n",
              "      <td>False</td>\n",
              "    </tr>\n",
              "    <tr>\n",
              "      <th>cache_size</th>\n",
              "      <td>200</td>\n",
              "    </tr>\n",
              "    <tr>\n",
              "      <th>class_weight</th>\n",
              "      <td>None</td>\n",
              "    </tr>\n",
              "    <tr>\n",
              "      <th>coef0</th>\n",
              "      <td>0.0000</td>\n",
              "    </tr>\n",
              "    <tr>\n",
              "      <th>decision_function_shape</th>\n",
              "      <td>ovr</td>\n",
              "    </tr>\n",
              "    <tr>\n",
              "      <th>degree</th>\n",
              "      <td>3</td>\n",
              "    </tr>\n",
              "    <tr>\n",
              "      <th>gamma</th>\n",
              "      <td>scale</td>\n",
              "    </tr>\n",
              "    <tr>\n",
              "      <th>kernel</th>\n",
              "      <td>rbf</td>\n",
              "    </tr>\n",
              "    <tr>\n",
              "      <th>max_iter</th>\n",
              "      <td>-1</td>\n",
              "    </tr>\n",
              "    <tr>\n",
              "      <th>probability</th>\n",
              "      <td>False</td>\n",
              "    </tr>\n",
              "    <tr>\n",
              "      <th>random_state</th>\n",
              "      <td>None</td>\n",
              "    </tr>\n",
              "    <tr>\n",
              "      <th>shrinking</th>\n",
              "      <td>True</td>\n",
              "    </tr>\n",
              "    <tr>\n",
              "      <th>tol</th>\n",
              "      <td>0.0010</td>\n",
              "    </tr>\n",
              "    <tr>\n",
              "      <th>verbose</th>\n",
              "      <td>False</td>\n",
              "    </tr>\n",
              "  </tbody>\n",
              "</table>\n",
              "</div>\n",
              "      <button class=\"colab-df-convert\" onclick=\"convertToInteractive('df-2beea219-f5d3-4b47-b404-8fdc1afa747b')\"\n",
              "              title=\"Convert this dataframe to an interactive table.\"\n",
              "              style=\"display:none;\">\n",
              "        \n",
              "  <svg xmlns=\"http://www.w3.org/2000/svg\" height=\"24px\"viewBox=\"0 0 24 24\"\n",
              "       width=\"24px\">\n",
              "    <path d=\"M0 0h24v24H0V0z\" fill=\"none\"/>\n",
              "    <path d=\"M18.56 5.44l.94 2.06.94-2.06 2.06-.94-2.06-.94-.94-2.06-.94 2.06-2.06.94zm-11 1L8.5 8.5l.94-2.06 2.06-.94-2.06-.94L8.5 2.5l-.94 2.06-2.06.94zm10 10l.94 2.06.94-2.06 2.06-.94-2.06-.94-.94-2.06-.94 2.06-2.06.94z\"/><path d=\"M17.41 7.96l-1.37-1.37c-.4-.4-.92-.59-1.43-.59-.52 0-1.04.2-1.43.59L10.3 9.45l-7.72 7.72c-.78.78-.78 2.05 0 2.83L4 21.41c.39.39.9.59 1.41.59.51 0 1.02-.2 1.41-.59l7.78-7.78 2.81-2.81c.8-.78.8-2.07 0-2.86zM5.41 20L4 18.59l7.72-7.72 1.47 1.35L5.41 20z\"/>\n",
              "  </svg>\n",
              "      </button>\n",
              "      \n",
              "  <style>\n",
              "    .colab-df-container {\n",
              "      display:flex;\n",
              "      flex-wrap:wrap;\n",
              "      gap: 12px;\n",
              "    }\n",
              "\n",
              "    .colab-df-convert {\n",
              "      background-color: #E8F0FE;\n",
              "      border: none;\n",
              "      border-radius: 50%;\n",
              "      cursor: pointer;\n",
              "      display: none;\n",
              "      fill: #1967D2;\n",
              "      height: 32px;\n",
              "      padding: 0 0 0 0;\n",
              "      width: 32px;\n",
              "    }\n",
              "\n",
              "    .colab-df-convert:hover {\n",
              "      background-color: #E2EBFA;\n",
              "      box-shadow: 0px 1px 2px rgba(60, 64, 67, 0.3), 0px 1px 3px 1px rgba(60, 64, 67, 0.15);\n",
              "      fill: #174EA6;\n",
              "    }\n",
              "\n",
              "    [theme=dark] .colab-df-convert {\n",
              "      background-color: #3B4455;\n",
              "      fill: #D2E3FC;\n",
              "    }\n",
              "\n",
              "    [theme=dark] .colab-df-convert:hover {\n",
              "      background-color: #434B5C;\n",
              "      box-shadow: 0px 1px 3px 1px rgba(0, 0, 0, 0.15);\n",
              "      filter: drop-shadow(0px 1px 2px rgba(0, 0, 0, 0.3));\n",
              "      fill: #FFFFFF;\n",
              "    }\n",
              "  </style>\n",
              "\n",
              "      <script>\n",
              "        const buttonEl =\n",
              "          document.querySelector('#df-2beea219-f5d3-4b47-b404-8fdc1afa747b button.colab-df-convert');\n",
              "        buttonEl.style.display =\n",
              "          google.colab.kernel.accessAllowed ? 'block' : 'none';\n",
              "\n",
              "        async function convertToInteractive(key) {\n",
              "          const element = document.querySelector('#df-2beea219-f5d3-4b47-b404-8fdc1afa747b');\n",
              "          const dataTable =\n",
              "            await google.colab.kernel.invokeFunction('convertToInteractive',\n",
              "                                                     [key], {});\n",
              "          if (!dataTable) return;\n",
              "\n",
              "          const docLinkHtml = 'Like what you see? Visit the ' +\n",
              "            '<a target=\"_blank\" href=https://colab.research.google.com/notebooks/data_table.ipynb>data table notebook</a>'\n",
              "            + ' to learn more about interactive tables.';\n",
              "          element.innerHTML = '';\n",
              "          dataTable['output_type'] = 'display_data';\n",
              "          await google.colab.output.renderOutput(dataTable, element);\n",
              "          const docLink = document.createElement('div');\n",
              "          docLink.innerHTML = docLinkHtml;\n",
              "          element.appendChild(docLink);\n",
              "        }\n",
              "      </script>\n",
              "    </div>\n",
              "  </div>\n",
              "  "
            ]
          },
          "metadata": {},
          "execution_count": 213
        }
      ],
      "id": "kb_zawGRmxob"
    },
    {
      "cell_type": "code",
      "source": [
        "# C parametar for regularization\n",
        "C_range = [1,3,5]\n",
        "# kernel type to be used in the algorithm\n",
        "kernel = ['rbf', 'poly', 'sigmoid']"
      ],
      "metadata": {
        "id": "vFukxUnJlhxM"
      },
      "execution_count": null,
      "outputs": [],
      "id": "vFukxUnJlhxM"
    },
    {
      "cell_type": "code",
      "source": [
        "param_grid_svc = {\n",
        "    'C' : C_range,\n",
        "    'kernel' : kernel\n",
        "}\n",
        "scoring = ['accuracy']\n",
        "kfold = StratifiedKFold(n_splits=3, shuffle=True, random_state=123)"
      ],
      "metadata": {
        "id": "hTgwTqy4lhmc"
      },
      "execution_count": null,
      "outputs": [],
      "id": "hTgwTqy4lhmc"
    },
    {
      "cell_type": "code",
      "source": [
        "grid_serach_svc = GridSearchCV(estimator=svc,\n",
        "                           param_grid=param_grid_svc,\n",
        "                           scoring=scoring,\n",
        "                           refit='accuracy',\n",
        "                           n_jobs=-1,\n",
        "                           cv=kfold,\n",
        "                           verbose=0)\n",
        "\n",
        "grid_result_svc = grid_serach_svc.fit(X_train, y_train)"
      ],
      "metadata": {
        "id": "iixyyjOplhgV"
      },
      "execution_count": null,
      "outputs": [],
      "id": "iixyyjOplhgV"
    },
    {
      "cell_type": "code",
      "source": [
        "grid_result_svc"
      ],
      "metadata": {
        "id": "n1bV28OJ0_8E"
      },
      "execution_count": null,
      "outputs": [],
      "id": "n1bV28OJ0_8E"
    },
    {
      "cell_type": "code",
      "source": [
        "print(f'The best hyperparametars are {grid_result_svc.best_params_}')\n",
        "print(f'The accuracy score for the testing data is:  {grid_result_svc.score(X_test, y_train)}')"
      ],
      "metadata": {
        "id": "5YvETycD1DCd"
      },
      "execution_count": null,
      "outputs": [],
      "id": "5YvETycD1DCd"
    },
    {
      "cell_type": "markdown",
      "source": [
        "### 3.Hyper Tune K-Nearest Neighbor Classifier"
      ],
      "metadata": {
        "id": "mzqALD90Hnhs"
      },
      "id": "mzqALD90Hnhs"
    },
    {
      "cell_type": "code",
      "source": [
        "from sklearn.model_selection import GridSearchCV, StratifiedKFold, cross_val_score\n",
        "from sklearn.metrics import accuracy_score\n",
        "from sklearn.neighbors import KNeighborsClassifier"
      ],
      "metadata": {
        "id": "X9rfZytOnq5l"
      },
      "execution_count": null,
      "outputs": [],
      "id": "X9rfZytOnq5l"
    },
    {
      "cell_type": "code",
      "source": [
        "knn = KNeighborsClassifier()\n",
        "params = knn.get_params()\n",
        "params_dt = pd.DataFrame(params, index=[0])\n",
        "params_dt.T"
      ],
      "metadata": {
        "id": "t_G9UhgKnqwU"
      },
      "execution_count": null,
      "outputs": [],
      "id": "t_G9UhgKnqwU"
    },
    {
      "cell_type": "code",
      "source": [
        "# n_neighbors\n",
        "n_neighbors = [1,3,5]\n",
        "# algorithm\n",
        "algorithm = ['ball_tree', 'kd_tree', 'brute']"
      ],
      "metadata": {
        "id": "ZWHz16oLnqqb"
      },
      "execution_count": null,
      "outputs": [],
      "id": "ZWHz16oLnqqb"
    },
    {
      "cell_type": "code",
      "source": [
        "param_grid_knn = {\n",
        "    'n_neighbors' : n_neighbors,\n",
        "    'algorithm' : algorithm\n",
        "}\n",
        "scoring = ['accuracy']\n",
        "kfold = StratifiedKFold(n_splits=3, shuffle=True, random_state=123)"
      ],
      "metadata": {
        "id": "VHSb7l85nqn9"
      },
      "execution_count": null,
      "outputs": [],
      "id": "VHSb7l85nqn9"
    },
    {
      "cell_type": "code",
      "source": [
        "grid_serach_knn = GridSearchCV(estimator=knn,\n",
        "                           param_grid=param_grid_knn,\n",
        "                           scoring=scoring,\n",
        "                           refit='accuracy',\n",
        "                           n_jobs=-1,\n",
        "                           cv=kfold,\n",
        "                           verbose=0)\n",
        "\n",
        "grid_result_knn = grid_serach_knn.fit(X_train, y_train)"
      ],
      "metadata": {
        "id": "vVY9dEWznqQC"
      },
      "execution_count": null,
      "outputs": [],
      "id": "vVY9dEWznqQC"
    },
    {
      "cell_type": "code",
      "source": [
        "grid_result_knn"
      ],
      "metadata": {
        "id": "YsrkalNe1Nkc"
      },
      "execution_count": null,
      "outputs": [],
      "id": "YsrkalNe1Nkc"
    },
    {
      "cell_type": "code",
      "source": [
        "print(f'The best hyperparametars are {grid_result_knn.best_params_}')\n",
        "print(f'The accuracy score for the testing data is:  {grid_result_knn.score(X_test, y_test)}')"
      ],
      "metadata": {
        "id": "leVAyPaM1NGA"
      },
      "execution_count": null,
      "outputs": [],
      "id": "leVAyPaM1NGA"
    },
    {
      "cell_type": "markdown",
      "source": [
        "# 5. SUMMARY"
      ],
      "metadata": {
        "id": "7TiR39zlK1C4"
      },
      "id": "7TiR39zlK1C4"
    },
    {
      "cell_type": "code",
      "source": [
        "acc_dt_test_tuned = 87.43\n",
        "acc_svc_test_tuned = 99.65\n",
        "acc_knn_cross_val_score = 99.65\n",
        "models = pd.DataFrame({\n",
        "    'Model' :['Decision Tree', 'SVC', 'K-Neighbor'],\n",
        "    'Accuracy_score_default' :[acc_dt_test, acc_svc_test, acc_knn_test],\n",
        "    'Accuracy_score_tuned_parametars' :[acc_dt_test_tuned, acc_svc_test_tuned, acc_knn_cross_val_score],\n",
        "})\n",
        "models"
      ],
      "metadata": {
        "colab": {
          "base_uri": "https://localhost:8080/",
          "height": 143
        },
        "id": "6QzHN0zFK6Q8",
        "outputId": "2c660d0e-6d02-47a3-aa33-8aed9ba40a85"
      },
      "execution_count": null,
      "outputs": [
        {
          "output_type": "execute_result",
          "data": {
            "text/plain": [
              "           Model  Accuracy_score_default  Accuracy_score_tuned_parametars\n",
              "0  Decision Tree                 87.4265                          87.4300\n",
              "1            SVC                 98.4310                          99.6500\n",
              "2     K-Neighbor                 90.5862                          99.6500"
            ],
            "text/html": [
              "\n",
              "  <div id=\"df-16ba85ed-4318-49b3-a635-589bab35b96c\">\n",
              "    <div class=\"colab-df-container\">\n",
              "      <div>\n",
              "<style scoped>\n",
              "    .dataframe tbody tr th:only-of-type {\n",
              "        vertical-align: middle;\n",
              "    }\n",
              "\n",
              "    .dataframe tbody tr th {\n",
              "        vertical-align: top;\n",
              "    }\n",
              "\n",
              "    .dataframe thead th {\n",
              "        text-align: right;\n",
              "    }\n",
              "</style>\n",
              "<table border=\"1\" class=\"dataframe\">\n",
              "  <thead>\n",
              "    <tr style=\"text-align: right;\">\n",
              "      <th></th>\n",
              "      <th>Model</th>\n",
              "      <th>Accuracy_score_default</th>\n",
              "      <th>Accuracy_score_tuned_parametars</th>\n",
              "    </tr>\n",
              "  </thead>\n",
              "  <tbody>\n",
              "    <tr>\n",
              "      <th>0</th>\n",
              "      <td>Decision Tree</td>\n",
              "      <td>87.4265</td>\n",
              "      <td>87.4300</td>\n",
              "    </tr>\n",
              "    <tr>\n",
              "      <th>1</th>\n",
              "      <td>SVC</td>\n",
              "      <td>98.4310</td>\n",
              "      <td>99.6500</td>\n",
              "    </tr>\n",
              "    <tr>\n",
              "      <th>2</th>\n",
              "      <td>K-Neighbor</td>\n",
              "      <td>90.5862</td>\n",
              "      <td>99.6500</td>\n",
              "    </tr>\n",
              "  </tbody>\n",
              "</table>\n",
              "</div>\n",
              "      <button class=\"colab-df-convert\" onclick=\"convertToInteractive('df-16ba85ed-4318-49b3-a635-589bab35b96c')\"\n",
              "              title=\"Convert this dataframe to an interactive table.\"\n",
              "              style=\"display:none;\">\n",
              "        \n",
              "  <svg xmlns=\"http://www.w3.org/2000/svg\" height=\"24px\"viewBox=\"0 0 24 24\"\n",
              "       width=\"24px\">\n",
              "    <path d=\"M0 0h24v24H0V0z\" fill=\"none\"/>\n",
              "    <path d=\"M18.56 5.44l.94 2.06.94-2.06 2.06-.94-2.06-.94-.94-2.06-.94 2.06-2.06.94zm-11 1L8.5 8.5l.94-2.06 2.06-.94-2.06-.94L8.5 2.5l-.94 2.06-2.06.94zm10 10l.94 2.06.94-2.06 2.06-.94-2.06-.94-.94-2.06-.94 2.06-2.06.94z\"/><path d=\"M17.41 7.96l-1.37-1.37c-.4-.4-.92-.59-1.43-.59-.52 0-1.04.2-1.43.59L10.3 9.45l-7.72 7.72c-.78.78-.78 2.05 0 2.83L4 21.41c.39.39.9.59 1.41.59.51 0 1.02-.2 1.41-.59l7.78-7.78 2.81-2.81c.8-.78.8-2.07 0-2.86zM5.41 20L4 18.59l7.72-7.72 1.47 1.35L5.41 20z\"/>\n",
              "  </svg>\n",
              "      </button>\n",
              "      \n",
              "  <style>\n",
              "    .colab-df-container {\n",
              "      display:flex;\n",
              "      flex-wrap:wrap;\n",
              "      gap: 12px;\n",
              "    }\n",
              "\n",
              "    .colab-df-convert {\n",
              "      background-color: #E8F0FE;\n",
              "      border: none;\n",
              "      border-radius: 50%;\n",
              "      cursor: pointer;\n",
              "      display: none;\n",
              "      fill: #1967D2;\n",
              "      height: 32px;\n",
              "      padding: 0 0 0 0;\n",
              "      width: 32px;\n",
              "    }\n",
              "\n",
              "    .colab-df-convert:hover {\n",
              "      background-color: #E2EBFA;\n",
              "      box-shadow: 0px 1px 2px rgba(60, 64, 67, 0.3), 0px 1px 3px 1px rgba(60, 64, 67, 0.15);\n",
              "      fill: #174EA6;\n",
              "    }\n",
              "\n",
              "    [theme=dark] .colab-df-convert {\n",
              "      background-color: #3B4455;\n",
              "      fill: #D2E3FC;\n",
              "    }\n",
              "\n",
              "    [theme=dark] .colab-df-convert:hover {\n",
              "      background-color: #434B5C;\n",
              "      box-shadow: 0px 1px 3px 1px rgba(0, 0, 0, 0.15);\n",
              "      filter: drop-shadow(0px 1px 2px rgba(0, 0, 0, 0.3));\n",
              "      fill: #FFFFFF;\n",
              "    }\n",
              "  </style>\n",
              "\n",
              "      <script>\n",
              "        const buttonEl =\n",
              "          document.querySelector('#df-16ba85ed-4318-49b3-a635-589bab35b96c button.colab-df-convert');\n",
              "        buttonEl.style.display =\n",
              "          google.colab.kernel.accessAllowed ? 'block' : 'none';\n",
              "\n",
              "        async function convertToInteractive(key) {\n",
              "          const element = document.querySelector('#df-16ba85ed-4318-49b3-a635-589bab35b96c');\n",
              "          const dataTable =\n",
              "            await google.colab.kernel.invokeFunction('convertToInteractive',\n",
              "                                                     [key], {});\n",
              "          if (!dataTable) return;\n",
              "\n",
              "          const docLinkHtml = 'Like what you see? Visit the ' +\n",
              "            '<a target=\"_blank\" href=https://colab.research.google.com/notebooks/data_table.ipynb>data table notebook</a>'\n",
              "            + ' to learn more about interactive tables.';\n",
              "          element.innerHTML = '';\n",
              "          dataTable['output_type'] = 'display_data';\n",
              "          await google.colab.output.renderOutput(dataTable, element);\n",
              "          const docLink = document.createElement('div');\n",
              "          docLink.innerHTML = docLinkHtml;\n",
              "          element.appendChild(docLink);\n",
              "        }\n",
              "      </script>\n",
              "    </div>\n",
              "  </div>\n",
              "  "
            ]
          },
          "metadata": {},
          "execution_count": 90
        }
      ],
      "id": "6QzHN0zFK6Q8"
    }
  ],
  "metadata": {
    "kernelspec": {
      "display_name": "Python 3",
      "name": "python3"
    },
    "language_info": {
      "codemirror_mode": {
        "name": "ipython",
        "version": 3
      },
      "file_extension": ".py",
      "mimetype": "text/x-python",
      "name": "python",
      "nbconvert_exporter": "python",
      "pygments_lexer": "ipython3",
      "version": "3.10.13"
    },
    "colab": {
      "provenance": [],
      "gpuType": "T4"
    },
    "accelerator": "GPU"
  },
  "nbformat": 4,
  "nbformat_minor": 5
}